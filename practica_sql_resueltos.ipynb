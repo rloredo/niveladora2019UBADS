{
 "cells": [
  {
   "cell_type": "markdown",
   "metadata": {},
   "source": [
    "# Práctica SQL ejercicios\n",
    "\n",
    "¿Cómo usar?<br>\n",
    "Correr las celdas individualmente para resolver cada ejercicio.<br>\n",
    "<br>\n",
    "\n",
    "La función q('') toma entre las comillas una sentencia SQL e imprime el resultado de la query<br>\n",
    "La función verTabla('') muestra la estructura de la tabla<br>\n",
    "\n",
    "Shortcuts útiles: <br>\n",
    "                shift + enter -> corre celda<br>\n",
    "                esc + o       -> oculta/muestra resultado impreso<br>"
   ]
  },
  {
   "cell_type": "code",
   "execution_count": 35,
   "metadata": {},
   "outputs": [],
   "source": [
    "#Import sqlite para acceder a base\n",
    "import sqlite3\n",
    "import pandas as pd\n",
    "\n",
    "#Poner acá el path a la base\n",
    "archivoBase = 'practica-sql.db'\n",
    "\n",
    "#Conectar a base\n",
    "conn = sqlite3.connect(archivoBase)\n",
    "c = conn.cursor()"
   ]
  },
  {
   "cell_type": "code",
   "execution_count": 51,
   "metadata": {},
   "outputs": [],
   "source": [
    "#Función q para realizar Queries\n",
    "def q(sent):\n",
    "     return pd.read_sql_query(sent, conn)\n",
    "     \n",
    "\n",
    "#Función para ver estructura de las tablas. El nombre de tabla va como string\n",
    "def verTabla (tabla):\n",
    "    table = str(tabla)\n",
    "    return pd.read_sql_query(f'PRAGMA table_info(\"{table}\")', conn)"
   ]
  },
  {
   "cell_type": "markdown",
   "metadata": {},
   "source": [
    "Ver tablas de la base"
   ]
  },
  {
   "cell_type": "code",
   "execution_count": 42,
   "metadata": {},
   "outputs": [
    {
     "data": {
      "text/html": [
       "<div>\n",
       "<style scoped>\n",
       "    .dataframe tbody tr th:only-of-type {\n",
       "        vertical-align: middle;\n",
       "    }\n",
       "\n",
       "    .dataframe tbody tr th {\n",
       "        vertical-align: top;\n",
       "    }\n",
       "\n",
       "    .dataframe thead th {\n",
       "        text-align: right;\n",
       "    }\n",
       "</style>\n",
       "<table border=\"1\" class=\"dataframe\">\n",
       "  <thead>\n",
       "    <tr style=\"text-align: right;\">\n",
       "      <th></th>\n",
       "      <th>name</th>\n",
       "    </tr>\n",
       "  </thead>\n",
       "  <tbody>\n",
       "    <tr>\n",
       "      <th>0</th>\n",
       "      <td>departamentos</td>\n",
       "    </tr>\n",
       "    <tr>\n",
       "      <th>1</th>\n",
       "      <td>empleados</td>\n",
       "    </tr>\n",
       "    <tr>\n",
       "      <th>2</th>\n",
       "      <td>ordenes</td>\n",
       "    </tr>\n",
       "    <tr>\n",
       "      <th>3</th>\n",
       "      <td>productos</td>\n",
       "    </tr>\n",
       "    <tr>\n",
       "      <th>4</th>\n",
       "      <td>proveedores</td>\n",
       "    </tr>\n",
       "    <tr>\n",
       "      <th>5</th>\n",
       "      <td>renglones</td>\n",
       "    </tr>\n",
       "  </tbody>\n",
       "</table>\n",
       "</div>"
      ],
      "text/plain": [
       "            name\n",
       "0  departamentos\n",
       "1      empleados\n",
       "2        ordenes\n",
       "3      productos\n",
       "4    proveedores\n",
       "5      renglones"
      ]
     },
     "execution_count": 42,
     "metadata": {},
     "output_type": "execute_result"
    }
   ],
   "source": [
    "q(\n",
    "'select name from sqlite_master where type=\"table\";')"
   ]
  },
  {
   "cell_type": "markdown",
   "metadata": {},
   "source": [
    "Ver estructura de la tabla \"\""
   ]
  },
  {
   "cell_type": "code",
   "execution_count": 50,
   "metadata": {},
   "outputs": [
    {
     "data": {
      "text/html": [
       "<div>\n",
       "<style scoped>\n",
       "    .dataframe tbody tr th:only-of-type {\n",
       "        vertical-align: middle;\n",
       "    }\n",
       "\n",
       "    .dataframe tbody tr th {\n",
       "        vertical-align: top;\n",
       "    }\n",
       "\n",
       "    .dataframe thead th {\n",
       "        text-align: right;\n",
       "    }\n",
       "</style>\n",
       "<table border=\"1\" class=\"dataframe\">\n",
       "  <thead>\n",
       "    <tr style=\"text-align: right;\">\n",
       "      <th></th>\n",
       "      <th>cid</th>\n",
       "      <th>name</th>\n",
       "      <th>type</th>\n",
       "      <th>notnull</th>\n",
       "      <th>dflt_value</th>\n",
       "      <th>pk</th>\n",
       "    </tr>\n",
       "  </thead>\n",
       "  <tbody>\n",
       "    <tr>\n",
       "      <th>0</th>\n",
       "      <td>0</td>\n",
       "      <td>nombre</td>\n",
       "      <td>varchar(255)</td>\n",
       "      <td>0</td>\n",
       "      <td>''</td>\n",
       "      <td>0</td>\n",
       "    </tr>\n",
       "    <tr>\n",
       "      <th>1</th>\n",
       "      <td>1</td>\n",
       "      <td>calle</td>\n",
       "      <td>varchar(255)</td>\n",
       "      <td>0</td>\n",
       "      <td>''</td>\n",
       "      <td>0</td>\n",
       "    </tr>\n",
       "    <tr>\n",
       "      <th>2</th>\n",
       "      <td>2</td>\n",
       "      <td>numero</td>\n",
       "      <td>varchar(255)</td>\n",
       "      <td>0</td>\n",
       "      <td>''</td>\n",
       "      <td>0</td>\n",
       "    </tr>\n",
       "    <tr>\n",
       "      <th>3</th>\n",
       "      <td>3</td>\n",
       "      <td>piso</td>\n",
       "      <td>varchar(255)</td>\n",
       "      <td>0</td>\n",
       "      <td>''</td>\n",
       "      <td>0</td>\n",
       "    </tr>\n",
       "    <tr>\n",
       "      <th>4</th>\n",
       "      <td>4</td>\n",
       "      <td>depto</td>\n",
       "      <td>varchar(255)</td>\n",
       "      <td>0</td>\n",
       "      <td>''</td>\n",
       "      <td>0</td>\n",
       "    </tr>\n",
       "    <tr>\n",
       "      <th>5</th>\n",
       "      <td>5</td>\n",
       "      <td>sexo</td>\n",
       "      <td>varchar(255)</td>\n",
       "      <td>0</td>\n",
       "      <td>''</td>\n",
       "      <td>0</td>\n",
       "    </tr>\n",
       "    <tr>\n",
       "      <th>6</th>\n",
       "      <td>6</td>\n",
       "      <td>tipo_documento</td>\n",
       "      <td>varchar(255)</td>\n",
       "      <td>0</td>\n",
       "      <td>''</td>\n",
       "      <td>0</td>\n",
       "    </tr>\n",
       "    <tr>\n",
       "      <th>7</th>\n",
       "      <td>7</td>\n",
       "      <td>estado_civil</td>\n",
       "      <td>varchar(255)</td>\n",
       "      <td>0</td>\n",
       "      <td>''</td>\n",
       "      <td>0</td>\n",
       "    </tr>\n",
       "    <tr>\n",
       "      <th>8</th>\n",
       "      <td>8</td>\n",
       "      <td>codigo</td>\n",
       "      <td>decimal(28,0)</td>\n",
       "      <td>1</td>\n",
       "      <td>'0'</td>\n",
       "      <td>1</td>\n",
       "    </tr>\n",
       "    <tr>\n",
       "      <th>9</th>\n",
       "      <td>9</td>\n",
       "      <td>nro_documento</td>\n",
       "      <td>decimal(28,0)</td>\n",
       "      <td>1</td>\n",
       "      <td>'0'</td>\n",
       "      <td>0</td>\n",
       "    </tr>\n",
       "    <tr>\n",
       "      <th>10</th>\n",
       "      <td>10</td>\n",
       "      <td>salario</td>\n",
       "      <td>decimal(28,0)</td>\n",
       "      <td>1</td>\n",
       "      <td>'0'</td>\n",
       "      <td>0</td>\n",
       "    </tr>\n",
       "    <tr>\n",
       "      <th>11</th>\n",
       "      <td>11</td>\n",
       "      <td>comision</td>\n",
       "      <td>decimal(28,0)</td>\n",
       "      <td>0</td>\n",
       "      <td>'0'</td>\n",
       "      <td>0</td>\n",
       "    </tr>\n",
       "    <tr>\n",
       "      <th>12</th>\n",
       "      <td>12</td>\n",
       "      <td>codigo_dep</td>\n",
       "      <td>decimal(28,0)</td>\n",
       "      <td>0</td>\n",
       "      <td>'0'</td>\n",
       "      <td>0</td>\n",
       "    </tr>\n",
       "  </tbody>\n",
       "</table>\n",
       "</div>"
      ],
      "text/plain": [
       "    cid            name           type  notnull dflt_value  pk\n",
       "0     0          nombre   varchar(255)        0         ''   0\n",
       "1     1           calle   varchar(255)        0         ''   0\n",
       "2     2          numero   varchar(255)        0         ''   0\n",
       "3     3            piso   varchar(255)        0         ''   0\n",
       "4     4           depto   varchar(255)        0         ''   0\n",
       "5     5            sexo   varchar(255)        0         ''   0\n",
       "6     6  tipo_documento   varchar(255)        0         ''   0\n",
       "7     7    estado_civil   varchar(255)        0         ''   0\n",
       "8     8          codigo  decimal(28,0)        1        '0'   1\n",
       "9     9   nro_documento  decimal(28,0)        1        '0'   0\n",
       "10   10         salario  decimal(28,0)        1        '0'   0\n",
       "11   11        comision  decimal(28,0)        0        '0'   0\n",
       "12   12      codigo_dep  decimal(28,0)        0        '0'   0"
      ]
     },
     "execution_count": 50,
     "metadata": {},
     "output_type": "execute_result"
    }
   ],
   "source": [
    "verTabla('empleados')"
   ]
  },
  {
   "cell_type": "code",
   "execution_count": 40,
   "metadata": {
    "collapsed": true
   },
   "outputs": [
    {
     "data": {
      "text/plain": [
       "[(0, 'nombre', 'varchar(255)', 0, \"''\", 0),\n",
       " (1, 'direccion', 'varchar(255)', 0, \"''\", 0),\n",
       " (2, 'ciudad', 'varchar(255)', 0, \"''\", 0),\n",
       " (3, 'telefono', 'varchar(255)', 0, \"''\", 0),\n",
       " (4, 'tipo_credito', 'varchar(255)', 0, \"''\", 0),\n",
       " (5, 'codigo', 'decimal(28,0)', 1, \"'0'\", 1)]"
      ]
     },
     "execution_count": 40,
     "metadata": {},
     "output_type": "execute_result"
    }
   ],
   "source": [
    "verTabla('proveedores')"
   ]
  },
  {
   "cell_type": "markdown",
   "metadata": {},
   "source": [
    "## Ejercicios"
   ]
  },
  {
   "cell_type": "markdown",
   "metadata": {},
   "source": [
    "### 1 SENTENCIA SELECT"
   ]
  },
  {
   "cell_type": "markdown",
   "metadata": {},
   "source": [
    "a) Mostrar el contenido de la tabla empleados."
   ]
  },
  {
   "cell_type": "code",
   "execution_count": 40,
   "metadata": {},
   "outputs": [
    {
     "data": {
      "text/html": [
       "<div>\n",
       "<style scoped>\n",
       "    .dataframe tbody tr th:only-of-type {\n",
       "        vertical-align: middle;\n",
       "    }\n",
       "\n",
       "    .dataframe tbody tr th {\n",
       "        vertical-align: top;\n",
       "    }\n",
       "\n",
       "    .dataframe thead th {\n",
       "        text-align: right;\n",
       "    }\n",
       "</style>\n",
       "<table border=\"1\" class=\"dataframe\">\n",
       "  <thead>\n",
       "    <tr style=\"text-align: right;\">\n",
       "      <th></th>\n",
       "      <th>nombre</th>\n",
       "      <th>calle</th>\n",
       "      <th>numero</th>\n",
       "      <th>piso</th>\n",
       "      <th>depto</th>\n",
       "      <th>sexo</th>\n",
       "      <th>tipo_documento</th>\n",
       "      <th>estado_civil</th>\n",
       "      <th>codigo</th>\n",
       "      <th>nro_documento</th>\n",
       "      <th>salario</th>\n",
       "      <th>comision</th>\n",
       "      <th>codigo_dep</th>\n",
       "    </tr>\n",
       "  </thead>\n",
       "  <tbody>\n",
       "    <tr>\n",
       "      <th>0</th>\n",
       "      <td>Perez Carlos Alberto</td>\n",
       "      <td>Parana</td>\n",
       "      <td>555</td>\n",
       "      <td>None</td>\n",
       "      <td>None</td>\n",
       "      <td>M</td>\n",
       "      <td>DNI</td>\n",
       "      <td>SOLTERO</td>\n",
       "      <td>1</td>\n",
       "      <td>23194853</td>\n",
       "      <td>20600</td>\n",
       "      <td>1000.0</td>\n",
       "      <td>1</td>\n",
       "    </tr>\n",
       "    <tr>\n",
       "      <th>1</th>\n",
       "      <td>Jaime Daniel</td>\n",
       "      <td>Pasco</td>\n",
       "      <td>1685</td>\n",
       "      <td>5</td>\n",
       "      <td>A</td>\n",
       "      <td>M</td>\n",
       "      <td>DNI</td>\n",
       "      <td>CASADO</td>\n",
       "      <td>2</td>\n",
       "      <td>15354702</td>\n",
       "      <td>15500</td>\n",
       "      <td>NaN</td>\n",
       "      <td>3</td>\n",
       "    </tr>\n",
       "    <tr>\n",
       "      <th>2</th>\n",
       "      <td>Miranda Adriana</td>\n",
       "      <td>Jujuy</td>\n",
       "      <td>204</td>\n",
       "      <td>3</td>\n",
       "      <td>H</td>\n",
       "      <td>F</td>\n",
       "      <td>CI</td>\n",
       "      <td>CASADO</td>\n",
       "      <td>3</td>\n",
       "      <td>7862169</td>\n",
       "      <td>17750</td>\n",
       "      <td>1500.0</td>\n",
       "      <td>2</td>\n",
       "    </tr>\n",
       "    <tr>\n",
       "      <th>3</th>\n",
       "      <td>Cucagna Karina</td>\n",
       "      <td>Forest</td>\n",
       "      <td>856</td>\n",
       "      <td>PB</td>\n",
       "      <td>A</td>\n",
       "      <td>F</td>\n",
       "      <td>DNI</td>\n",
       "      <td>SOLTERO</td>\n",
       "      <td>4</td>\n",
       "      <td>24578699</td>\n",
       "      <td>15500</td>\n",
       "      <td>NaN</td>\n",
       "      <td>5</td>\n",
       "    </tr>\n",
       "    <tr>\n",
       "      <th>4</th>\n",
       "      <td>Soria Laura</td>\n",
       "      <td>Av. Corrientes</td>\n",
       "      <td>5489</td>\n",
       "      <td>14</td>\n",
       "      <td>C</td>\n",
       "      <td>F</td>\n",
       "      <td>DNI</td>\n",
       "      <td>CASADO</td>\n",
       "      <td>5</td>\n",
       "      <td>25471025</td>\n",
       "      <td>22000</td>\n",
       "      <td>NaN</td>\n",
       "      <td>4</td>\n",
       "    </tr>\n",
       "    <tr>\n",
       "      <th>5</th>\n",
       "      <td>Scorza Miguel</td>\n",
       "      <td>Holanda</td>\n",
       "      <td>245</td>\n",
       "      <td>None</td>\n",
       "      <td>None</td>\n",
       "      <td>M</td>\n",
       "      <td>DNI</td>\n",
       "      <td>CASADO</td>\n",
       "      <td>6</td>\n",
       "      <td>8234977</td>\n",
       "      <td>15500</td>\n",
       "      <td>NaN</td>\n",
       "      <td>1</td>\n",
       "    </tr>\n",
       "    <tr>\n",
       "      <th>6</th>\n",
       "      <td>Deluca Luis</td>\n",
       "      <td>Lima</td>\n",
       "      <td>399</td>\n",
       "      <td>1</td>\n",
       "      <td>D</td>\n",
       "      <td>M</td>\n",
       "      <td>DNI</td>\n",
       "      <td>CASADO</td>\n",
       "      <td>7</td>\n",
       "      <td>24614722</td>\n",
       "      <td>18800</td>\n",
       "      <td>3500.0</td>\n",
       "      <td>2</td>\n",
       "    </tr>\n",
       "    <tr>\n",
       "      <th>7</th>\n",
       "      <td>Cosio Alejandro</td>\n",
       "      <td>Cordoba</td>\n",
       "      <td>2185</td>\n",
       "      <td>5</td>\n",
       "      <td>W</td>\n",
       "      <td>M</td>\n",
       "      <td>DNI</td>\n",
       "      <td>CASADO</td>\n",
       "      <td>8</td>\n",
       "      <td>10547932</td>\n",
       "      <td>19900</td>\n",
       "      <td>2500.0</td>\n",
       "      <td>3</td>\n",
       "    </tr>\n",
       "    <tr>\n",
       "      <th>8</th>\n",
       "      <td>Fernandez Maria Cristina</td>\n",
       "      <td>Cordoba</td>\n",
       "      <td>4885</td>\n",
       "      <td>1</td>\n",
       "      <td>A</td>\n",
       "      <td>F</td>\n",
       "      <td>DNI</td>\n",
       "      <td>SOLTERO</td>\n",
       "      <td>9</td>\n",
       "      <td>17547222</td>\n",
       "      <td>13300</td>\n",
       "      <td>NaN</td>\n",
       "      <td>3</td>\n",
       "    </tr>\n",
       "    <tr>\n",
       "      <th>9</th>\n",
       "      <td>Fernandez Sofia</td>\n",
       "      <td>Alambes</td>\n",
       "      <td>344</td>\n",
       "      <td>None</td>\n",
       "      <td>None</td>\n",
       "      <td>F</td>\n",
       "      <td>DNI</td>\n",
       "      <td>CASADO</td>\n",
       "      <td>10</td>\n",
       "      <td>11847562</td>\n",
       "      <td>13300</td>\n",
       "      <td>2500.0</td>\n",
       "      <td>3</td>\n",
       "    </tr>\n",
       "    <tr>\n",
       "      <th>10</th>\n",
       "      <td>Rodriguez Carlos Alberto</td>\n",
       "      <td>Guido</td>\n",
       "      <td>1234</td>\n",
       "      <td>5</td>\n",
       "      <td>None</td>\n",
       "      <td>M</td>\n",
       "      <td>DNI</td>\n",
       "      <td>CASADO</td>\n",
       "      <td>11</td>\n",
       "      <td>12987677</td>\n",
       "      <td>29900</td>\n",
       "      <td>4500.0</td>\n",
       "      <td>5</td>\n",
       "    </tr>\n",
       "    <tr>\n",
       "      <th>11</th>\n",
       "      <td>Marto Lima Fracesca</td>\n",
       "      <td>Av. del Corral</td>\n",
       "      <td>2334</td>\n",
       "      <td>None</td>\n",
       "      <td>None</td>\n",
       "      <td>F</td>\n",
       "      <td>CI</td>\n",
       "      <td>DIVORCIADO</td>\n",
       "      <td>12</td>\n",
       "      <td>10547932</td>\n",
       "      <td>29900</td>\n",
       "      <td>5500.0</td>\n",
       "      <td>5</td>\n",
       "    </tr>\n",
       "    <tr>\n",
       "      <th>12</th>\n",
       "      <td>Coronda Ana Laura</td>\n",
       "      <td>Rawson</td>\n",
       "      <td>123</td>\n",
       "      <td>None</td>\n",
       "      <td>None</td>\n",
       "      <td>F</td>\n",
       "      <td>DNI</td>\n",
       "      <td>SOLTERO</td>\n",
       "      <td>13</td>\n",
       "      <td>24459333</td>\n",
       "      <td>9900</td>\n",
       "      <td>NaN</td>\n",
       "      <td>6</td>\n",
       "    </tr>\n",
       "    <tr>\n",
       "      <th>13</th>\n",
       "      <td>Casaso Martin</td>\n",
       "      <td>Julian Alvarez</td>\n",
       "      <td>2223</td>\n",
       "      <td>10</td>\n",
       "      <td>H</td>\n",
       "      <td>M</td>\n",
       "      <td>CI</td>\n",
       "      <td>VIUDO</td>\n",
       "      <td>14</td>\n",
       "      <td>10897878</td>\n",
       "      <td>14400</td>\n",
       "      <td>1000.0</td>\n",
       "      <td>6</td>\n",
       "    </tr>\n",
       "    <tr>\n",
       "      <th>14</th>\n",
       "      <td>Martinez Javier Alberto</td>\n",
       "      <td>Del Solar</td>\n",
       "      <td>32</td>\n",
       "      <td>None</td>\n",
       "      <td>None</td>\n",
       "      <td>M</td>\n",
       "      <td>CI</td>\n",
       "      <td>SOLTERO</td>\n",
       "      <td>15</td>\n",
       "      <td>30495887</td>\n",
       "      <td>7700</td>\n",
       "      <td>NaN</td>\n",
       "      <td>6</td>\n",
       "    </tr>\n",
       "    <tr>\n",
       "      <th>15</th>\n",
       "      <td>Puan Sandra Maria</td>\n",
       "      <td>Pasaje del Pilar</td>\n",
       "      <td>56</td>\n",
       "      <td>12</td>\n",
       "      <td>None</td>\n",
       "      <td>F</td>\n",
       "      <td>DNI</td>\n",
       "      <td>CASADO</td>\n",
       "      <td>16</td>\n",
       "      <td>18123444</td>\n",
       "      <td>11100</td>\n",
       "      <td>150.0</td>\n",
       "      <td>2</td>\n",
       "    </tr>\n",
       "    <tr>\n",
       "      <th>16</th>\n",
       "      <td>Valle Alerce Maria</td>\n",
       "      <td>Libertador</td>\n",
       "      <td>3444</td>\n",
       "      <td>23</td>\n",
       "      <td>None</td>\n",
       "      <td>F</td>\n",
       "      <td>DNI</td>\n",
       "      <td>CASADO</td>\n",
       "      <td>17</td>\n",
       "      <td>12555532</td>\n",
       "      <td>39900</td>\n",
       "      <td>550.0</td>\n",
       "      <td>6</td>\n",
       "    </tr>\n",
       "    <tr>\n",
       "      <th>17</th>\n",
       "      <td>Asalez Marcos</td>\n",
       "      <td>Sarandi</td>\n",
       "      <td>455</td>\n",
       "      <td>6</td>\n",
       "      <td>J</td>\n",
       "      <td>M</td>\n",
       "      <td>DNI</td>\n",
       "      <td>SOLTERO</td>\n",
       "      <td>18</td>\n",
       "      <td>19542382</td>\n",
       "      <td>7700</td>\n",
       "      <td>NaN</td>\n",
       "      <td>3</td>\n",
       "    </tr>\n",
       "  </tbody>\n",
       "</table>\n",
       "</div>"
      ],
      "text/plain": [
       "                      nombre             calle numero  piso depto sexo  \\\n",
       "0       Perez Carlos Alberto            Parana    555  None  None    M   \n",
       "1               Jaime Daniel             Pasco   1685     5     A    M   \n",
       "2            Miranda Adriana             Jujuy    204     3     H    F   \n",
       "3             Cucagna Karina            Forest    856    PB     A    F   \n",
       "4                Soria Laura    Av. Corrientes   5489    14     C    F   \n",
       "5              Scorza Miguel           Holanda    245  None  None    M   \n",
       "6                Deluca Luis              Lima    399     1     D    M   \n",
       "7            Cosio Alejandro           Cordoba   2185     5     W    M   \n",
       "8   Fernandez Maria Cristina           Cordoba   4885     1     A    F   \n",
       "9            Fernandez Sofia           Alambes    344  None  None    F   \n",
       "10  Rodriguez Carlos Alberto             Guido   1234     5  None    M   \n",
       "11       Marto Lima Fracesca    Av. del Corral   2334  None  None    F   \n",
       "12         Coronda Ana Laura            Rawson    123  None  None    F   \n",
       "13             Casaso Martin    Julian Alvarez   2223    10     H    M   \n",
       "14   Martinez Javier Alberto         Del Solar     32  None  None    M   \n",
       "15         Puan Sandra Maria  Pasaje del Pilar     56    12  None    F   \n",
       "16        Valle Alerce Maria        Libertador   3444    23  None    F   \n",
       "17             Asalez Marcos           Sarandi    455     6     J    M   \n",
       "\n",
       "   tipo_documento estado_civil  codigo  nro_documento  salario  comision  \\\n",
       "0             DNI      SOLTERO       1       23194853    20600    1000.0   \n",
       "1             DNI       CASADO       2       15354702    15500       NaN   \n",
       "2              CI       CASADO       3        7862169    17750    1500.0   \n",
       "3             DNI      SOLTERO       4       24578699    15500       NaN   \n",
       "4             DNI       CASADO       5       25471025    22000       NaN   \n",
       "5             DNI       CASADO       6        8234977    15500       NaN   \n",
       "6             DNI       CASADO       7       24614722    18800    3500.0   \n",
       "7             DNI       CASADO       8       10547932    19900    2500.0   \n",
       "8             DNI      SOLTERO       9       17547222    13300       NaN   \n",
       "9             DNI       CASADO      10       11847562    13300    2500.0   \n",
       "10            DNI       CASADO      11       12987677    29900    4500.0   \n",
       "11             CI   DIVORCIADO      12       10547932    29900    5500.0   \n",
       "12            DNI      SOLTERO      13       24459333     9900       NaN   \n",
       "13             CI        VIUDO      14       10897878    14400    1000.0   \n",
       "14             CI      SOLTERO      15       30495887     7700       NaN   \n",
       "15            DNI       CASADO      16       18123444    11100     150.0   \n",
       "16            DNI       CASADO      17       12555532    39900     550.0   \n",
       "17            DNI      SOLTERO      18       19542382     7700       NaN   \n",
       "\n",
       "    codigo_dep  \n",
       "0            1  \n",
       "1            3  \n",
       "2            2  \n",
       "3            5  \n",
       "4            4  \n",
       "5            1  \n",
       "6            2  \n",
       "7            3  \n",
       "8            3  \n",
       "9            3  \n",
       "10           5  \n",
       "11           5  \n",
       "12           6  \n",
       "13           6  \n",
       "14           6  \n",
       "15           2  \n",
       "16           6  \n",
       "17           3  "
      ]
     },
     "execution_count": 40,
     "metadata": {},
     "output_type": "execute_result"
    }
   ],
   "source": [
    "q(\n",
    "    'select * from empleados;')"
   ]
  },
  {
   "cell_type": "markdown",
   "metadata": {},
   "source": [
    "b) Mostrar el nombre y teléfono de los proveedores."
   ]
  },
  {
   "cell_type": "code",
   "execution_count": 52,
   "metadata": {},
   "outputs": [
    {
     "data": {
      "text/html": [
       "<div>\n",
       "<style scoped>\n",
       "    .dataframe tbody tr th:only-of-type {\n",
       "        vertical-align: middle;\n",
       "    }\n",
       "\n",
       "    .dataframe tbody tr th {\n",
       "        vertical-align: top;\n",
       "    }\n",
       "\n",
       "    .dataframe thead th {\n",
       "        text-align: right;\n",
       "    }\n",
       "</style>\n",
       "<table border=\"1\" class=\"dataframe\">\n",
       "  <thead>\n",
       "    <tr style=\"text-align: right;\">\n",
       "      <th></th>\n",
       "      <th>nombre</th>\n",
       "      <th>telefono</th>\n",
       "    </tr>\n",
       "  </thead>\n",
       "  <tbody>\n",
       "    <tr>\n",
       "      <th>0</th>\n",
       "      <td>ATALAYA S.R.L.</td>\n",
       "      <td>4777-3456</td>\n",
       "    </tr>\n",
       "    <tr>\n",
       "      <th>1</th>\n",
       "      <td>ROCAMORA E HIJOS</td>\n",
       "      <td>4752-7620</td>\n",
       "    </tr>\n",
       "    <tr>\n",
       "      <th>2</th>\n",
       "      <td>LA PERUANA</td>\n",
       "      <td>4432-0485</td>\n",
       "    </tr>\n",
       "    <tr>\n",
       "      <th>3</th>\n",
       "      <td>RUTA S.A.</td>\n",
       "      <td>4285-0932</td>\n",
       "    </tr>\n",
       "    <tr>\n",
       "      <th>4</th>\n",
       "      <td>COMODINES</td>\n",
       "      <td>4436-9332</td>\n",
       "    </tr>\n",
       "    <tr>\n",
       "      <th>5</th>\n",
       "      <td>LA SEXTA</td>\n",
       "      <td>02336-9332</td>\n",
       "    </tr>\n",
       "    <tr>\n",
       "      <th>6</th>\n",
       "      <td>AGUSTINEZ Y HERMANOS S.A.</td>\n",
       "      <td>4554-9344</td>\n",
       "    </tr>\n",
       "    <tr>\n",
       "      <th>7</th>\n",
       "      <td>PEREZ, PEREZ, Y RODRIGUEZ</td>\n",
       "      <td>4999-1313</td>\n",
       "    </tr>\n",
       "    <tr>\n",
       "      <th>8</th>\n",
       "      <td>AGUSTIN FERNANDEZ Y ASOCIADOS</td>\n",
       "      <td>023-36-7727</td>\n",
       "    </tr>\n",
       "    <tr>\n",
       "      <th>9</th>\n",
       "      <td>COMODO S.R.L.</td>\n",
       "      <td>0996-1122</td>\n",
       "    </tr>\n",
       "    <tr>\n",
       "      <th>10</th>\n",
       "      <td>PARIS</td>\n",
       "      <td>021-26-1220</td>\n",
       "    </tr>\n",
       "    <tr>\n",
       "      <th>11</th>\n",
       "      <td>MIS LAPICES</td>\n",
       "      <td>1212-3332</td>\n",
       "    </tr>\n",
       "  </tbody>\n",
       "</table>\n",
       "</div>"
      ],
      "text/plain": [
       "                           nombre     telefono\n",
       "0                  ATALAYA S.R.L.    4777-3456\n",
       "1                ROCAMORA E HIJOS    4752-7620\n",
       "2                      LA PERUANA    4432-0485\n",
       "3                       RUTA S.A.    4285-0932\n",
       "4                       COMODINES    4436-9332\n",
       "5                        LA SEXTA   02336-9332\n",
       "6       AGUSTINEZ Y HERMANOS S.A.    4554-9344\n",
       "7       PEREZ, PEREZ, Y RODRIGUEZ    4999-1313\n",
       "8   AGUSTIN FERNANDEZ Y ASOCIADOS  023-36-7727\n",
       "9                   COMODO S.R.L.    0996-1122\n",
       "10                          PARIS  021-26-1220\n",
       "11                    MIS LAPICES    1212-3332"
      ]
     },
     "execution_count": 52,
     "metadata": {},
     "output_type": "execute_result"
    }
   ],
   "source": [
    "q('''\n",
    "  SELECT p.nombre, p.telefono \n",
    "  FROM proveedores p;\n",
    "     ''')"
   ]
  },
  {
   "cell_type": "markdown",
   "metadata": {},
   "source": [
    "### 2 RESTRICCIÓN Y ORDENAMIENTO DE LAS BÚSQUEDAS"
   ]
  },
  {
   "cell_type": "markdown",
   "metadata": {},
   "source": [
    "a) Mostrar el nombre, salario y estado civil de los empleados del departamento 5."
   ]
  },
  {
   "cell_type": "code",
   "execution_count": 51,
   "metadata": {
    "collapsed": true
   },
   "outputs": [
    {
     "name": "stdout",
     "output_type": "stream",
     "text": [
      "('Cucagna Karina', 15500, 'SOLTERO')\n",
      "('Rodriguez Carlos Alberto', 29900, 'CASADO')\n",
      "('Marto Lima Fracesca', 29900, 'DIVORCIADO')\n"
     ]
    }
   ],
   "source": [
    "q('select e.nombre, e.salario, e.estado_civil from empleados e where e.codigo_dep = 5')"
   ]
  },
  {
   "cell_type": "markdown",
   "metadata": {},
   "source": [
    "b) Mostrar el nombre, salario y estado civil de los empleados del departamento 5 que estén casados."
   ]
  },
  {
   "cell_type": "code",
   "execution_count": 53,
   "metadata": {
    "collapsed": true
   },
   "outputs": [
    {
     "name": "stdout",
     "output_type": "stream",
     "text": [
      "('Rodriguez Carlos Alberto', 29900, 'CASADO')\n"
     ]
    }
   ],
   "source": [
    "q('select e.nombre, e.salario, e.estado_civil from empleados e where e.codigo_dep = 5 AND e.estado_civil = \"CASADO\";')"
   ]
  },
  {
   "cell_type": "markdown",
   "metadata": {},
   "source": [
    "c) Ordenar el resultado obtenido por nombre del empleado."
   ]
  },
  {
   "cell_type": "code",
   "execution_count": 54,
   "metadata": {
    "collapsed": true
   },
   "outputs": [
    {
     "name": "stdout",
     "output_type": "stream",
     "text": [
      "('Rodriguez Carlos Alberto', 29900, 'CASADO')\n"
     ]
    }
   ],
   "source": [
    "q('SELECT e.nombre, e.salario, e.estado_civil FROM empleados e WHERE e.codigo_dep = 5 AND e.estado_civil = \"CASADO\" ORDER BY e.nombre;')"
   ]
  },
  {
   "cell_type": "markdown",
   "metadata": {},
   "source": [
    "d) Listar el nombre y la suma del salario y comisión de los empleados que ganen más de 15500 pesos de los departamentos 2 y 5."
   ]
  },
  {
   "cell_type": "code",
   "execution_count": 53,
   "metadata": {},
   "outputs": [
    {
     "data": {
      "text/html": [
       "<div>\n",
       "<style scoped>\n",
       "    .dataframe tbody tr th:only-of-type {\n",
       "        vertical-align: middle;\n",
       "    }\n",
       "\n",
       "    .dataframe tbody tr th {\n",
       "        vertical-align: top;\n",
       "    }\n",
       "\n",
       "    .dataframe thead th {\n",
       "        text-align: right;\n",
       "    }\n",
       "</style>\n",
       "<table border=\"1\" class=\"dataframe\">\n",
       "  <thead>\n",
       "    <tr style=\"text-align: right;\">\n",
       "      <th></th>\n",
       "      <th>nombre</th>\n",
       "      <th>sumaSalarioComision</th>\n",
       "    </tr>\n",
       "  </thead>\n",
       "  <tbody>\n",
       "    <tr>\n",
       "      <th>0</th>\n",
       "      <td>Miranda Adriana</td>\n",
       "      <td>19250</td>\n",
       "    </tr>\n",
       "    <tr>\n",
       "      <th>1</th>\n",
       "      <td>Deluca Luis</td>\n",
       "      <td>22300</td>\n",
       "    </tr>\n",
       "    <tr>\n",
       "      <th>2</th>\n",
       "      <td>Rodriguez Carlos Alberto</td>\n",
       "      <td>34400</td>\n",
       "    </tr>\n",
       "    <tr>\n",
       "      <th>3</th>\n",
       "      <td>Marto Lima Fracesca</td>\n",
       "      <td>35400</td>\n",
       "    </tr>\n",
       "  </tbody>\n",
       "</table>\n",
       "</div>"
      ],
      "text/plain": [
       "                     nombre  sumaSalarioComision\n",
       "0           Miranda Adriana                19250\n",
       "1               Deluca Luis                22300\n",
       "2  Rodriguez Carlos Alberto                34400\n",
       "3       Marto Lima Fracesca                35400"
      ]
     },
     "execution_count": 53,
     "metadata": {},
     "output_type": "execute_result"
    }
   ],
   "source": [
    "q('select e.nombre, (e.salario+e.comision) AS sumaSalarioComision from empleados e where e.salario > 15500 AND (e.codigo_dep = 2 OR e.codigo_dep = 5);')"
   ]
  },
  {
   "cell_type": "markdown",
   "metadata": {},
   "source": [
    "e) Listar los empleados con sus salarios y comisiones y calcular el salario anual considerando que el aguinaldo equivale a un mes de sueldo sin contar la comisión."
   ]
  },
  {
   "cell_type": "code",
   "execution_count": 59,
   "metadata": {
    "collapsed": true
   },
   "outputs": [
    {
     "name": "stdout",
     "output_type": "stream",
     "text": [
      "('Perez Carlos Alberto', 20600, 1000, 247200)\n",
      "('Jaime Daniel', 15500, None, 186000)\n",
      "('Miranda Adriana', 17750, 1500, 213000)\n",
      "('Cucagna Karina', 15500, None, 186000)\n",
      "('Soria Laura', 22000, None, 264000)\n",
      "('Scorza Miguel', 15500, None, 186000)\n",
      "('Deluca Luis', 18800, 3500, 225600)\n",
      "('Cosio Alejandro', 19900, 2500, 238800)\n",
      "('Fernandez Maria Cristina', 13300, None, 159600)\n",
      "('Fernandez Sofia', 13300, 2500, 159600)\n",
      "('Rodriguez Carlos Alberto', 29900, 4500, 358800)\n",
      "('Marto Lima Fracesca', 29900, 5500, 358800)\n",
      "('Coronda Ana Laura', 9900, None, 118800)\n",
      "('Casaso Martin', 14400, 1000, 172800)\n",
      "('Martinez Javier Alberto', 7700, None, 92400)\n",
      "('Puan Sandra Maria', 11100, 150, 133200)\n",
      "('Valle Alerce Maria', 39900, 550, 478800)\n",
      "('Asalez Marcos', 7700, None, 92400)\n"
     ]
    }
   ],
   "source": [
    "q('SELECT e.nombre, e.salario, e.comision, (e.salario*12) AS salarioAnual FROM empleados e')"
   ]
  },
  {
   "cell_type": "markdown",
   "metadata": {},
   "source": [
    "f) Mostrar los renglones de las órdenes calculando el total de cada renglón."
   ]
  },
  {
   "cell_type": "code",
   "execution_count": 67,
   "metadata": {
    "collapsed": true
   },
   "outputs": [
    {
     "name": "stdout",
     "output_type": "stream",
     "text": [
      "(1, 100)\n",
      "(2, 820)\n",
      "(3, 4100)\n",
      "(1, 2000)\n",
      "(2, 1464)\n",
      "(3, 1200)\n",
      "(4, 648)\n",
      "(5, 360)\n",
      "(1, 5680)\n",
      "(2, 4600)\n",
      "(3, 5400)\n",
      "(4, 6710)\n",
      "(5, 14400)\n",
      "(6, 4080)\n",
      "(1, 5000)\n",
      "(2, 500)\n",
      "(3, 1000)\n",
      "(4, 3000)\n",
      "(1, 310)\n",
      "(2, 300)\n",
      "(1, 3720)\n",
      "(2, 2760)\n",
      "(3, 760)\n",
      "(4, 900)\n",
      "(5, 3240)\n",
      "(6, 2790)\n",
      "(7, 1100)\n",
      "(1, 1100)\n",
      "(2, 2530)\n",
      "(3, 720)\n",
      "(4, 410)\n",
      "(5, 1734)\n",
      "(1, 2074)\n",
      "(2, 2074)\n",
      "(3, 2880)\n",
      "(4, 2750)\n",
      "(1, 2074)\n",
      "(2, 120)\n",
      "(3, 144)\n",
      "(4, 4914)\n",
      "(5, 60)\n",
      "(6, 660)\n",
      "(7, 240)\n",
      "(8, 240)\n",
      "(1, 1440)\n",
      "(2, 250)\n",
      "(3, 132)\n",
      "(4, 105)\n",
      "(5, 9240)\n",
      "(1, 2160)\n",
      "(2, 1680)\n",
      "(3, 1200)\n",
      "(1, 360)\n",
      "(2, 300)\n",
      "(3, 100)\n",
      "(4, 144)\n",
      "(5, 744)\n",
      "(6, 756)\n",
      "(7, 396)\n",
      "(8, 400)\n",
      "(1, 744)\n",
      "(2, 105)\n",
      "(3, 200)\n",
      "(4, 1694)\n",
      "(1, 2050)\n",
      "(2, 120)\n",
      "(3, 612)\n",
      "(4, 1150)\n",
      "(5, 100)\n",
      "(6, 100)\n",
      "(7, 1224)\n",
      "(8, 400)\n",
      "(9, 600)\n",
      "(1, 820)\n",
      "(2, 500)\n",
      "(1, 4100)\n",
      "(2, 420)\n",
      "(3, 300)\n",
      "(4, 50)\n",
      "(5, 2745)\n",
      "(1, 50)\n",
      "(2, 110)\n",
      "(3, 240)\n",
      "(4, 600)\n",
      "(5, 132)\n",
      "(6, 500)\n",
      "(1, 600)\n",
      "(2, 252)\n",
      "(3, 240)\n"
     ]
    }
   ],
   "source": [
    "q('SELECT r.nro_renglon, (r.precio*r.cantidad) AS total FROM renglones r;')"
   ]
  },
  {
   "cell_type": "code",
   "execution_count": 7,
   "metadata": {
    "collapsed": true
   },
   "outputs": [
    {
     "data": {
      "text/plain": [
       "[(0, 'nro_orden', 'decimal(28,0)', 1, \"'0'\", 1),\n",
       " (1, 'nro_renglon', 'decimal(28,0)', 1, \"'0'\", 2),\n",
       " (2, 'codigo_pro', 'decimal(28,0)', 1, \"'0'\", 0),\n",
       " (3, 'precio', 'decimal(28,0)', 1, \"'0'\", 0),\n",
       " (4, 'cantidad', 'decimal(28,0)', 1, \"'0'\", 0)]"
      ]
     },
     "execution_count": 7,
     "metadata": {},
     "output_type": "execute_result"
    }
   ],
   "source": [
    "#Ver encabezado de tabla renglones\n",
    "c.execute('PRAGMA table_info(\"renglones\")').fetchall()"
   ]
  },
  {
   "cell_type": "code",
   "execution_count": 75,
   "metadata": {
    "collapsed": true
   },
   "outputs": [
    {
     "name": "stdout",
     "output_type": "stream",
     "text": [
      "(1, 1, 1000223, 10, 10)\n",
      "(1, 2, 7078080, 41, 20)\n",
      "(1, 3, 9002006, 41, 100)\n",
      "(2, 1, 1100334, 40, 50)\n",
      "(2, 2, 6007023, 61, 24)\n",
      "(2, 3, 6007045, 120, 10)\n",
      "(2, 4, 1034219, 54, 12)\n",
      "(2, 5, 1034311, 30, 12)\n",
      "(3, 1, 1000225, 71, 80)\n",
      "(3, 2, 1100333, 230, 20)\n",
      "(3, 3, 4210002, 120, 45)\n",
      "(3, 4, 4210004, 61, 110)\n",
      "(3, 5, 7078092, 120, 120)\n",
      "(3, 6, 9002003, 340, 12)\n",
      "(4, 1, 4555102, 50, 100)\n",
      "(4, 2, 1034219, 5, 100)\n",
      "(4, 3, 1034310, 10, 100)\n",
      "(4, 4, 6008070, 30, 100)\n",
      "(5, 1, 7078092, 31, 10)\n",
      "(5, 2, 4210002, 10, 30)\n",
      "(6, 1, 7078090, 31, 120)\n",
      "(6, 2, 7078092, 230, 12)\n",
      "(6, 3, 1002106, 380, 2)\n",
      "(6, 4, 1000225, 30, 30)\n",
      "(6, 5, 1000223, 81, 40)\n",
      "(6, 6, 1002024, 31, 90)\n",
      "(6, 7, 1100333, 10, 110)\n",
      "(7, 1, 1100333, 10, 110)\n",
      "(7, 2, 1034108, 230, 11)\n",
      "(7, 3, 6007045, 30, 24)\n",
      "(7, 4, 6007055, 41, 10)\n",
      "(7, 5, 8080803, 51, 34)\n",
      "(8, 1, 8080803, 61, 34)\n",
      "(8, 2, 7078090, 61, 34)\n",
      "(8, 3, 6008070, 120, 24)\n",
      "(8, 4, 4555108, 50, 55)\n",
      "(9, 1, 8080803, 61, 34)\n",
      "(9, 2, 1034311, 10, 12)\n",
      "(9, 3, 6007055, 6, 24)\n",
      "(9, 4, 6007066, 91, 54)\n",
      "(9, 5, 1034108, 20, 3)\n",
      "(9, 6, 1000223, 10, 66)\n",
      "(9, 7, 1000225, 60, 4)\n",
      "(9, 8, 4555104, 60, 4)\n",
      "(10, 1, 8080803, 60, 24)\n",
      "(10, 2, 6007066, 50, 5)\n",
      "(10, 3, 4210002, 11, 12)\n",
      "(10, 4, 1002025, 21, 5)\n",
      "(10, 5, 1002106, 120, 77)\n",
      "(11, 1, 8080803, 60, 36)\n",
      "(11, 2, 6008070, 70, 24)\n",
      "(11, 3, 4555102, 50, 24)\n",
      "(12, 1, 7078092, 60, 6)\n",
      "(12, 2, 4452025, 30, 10)\n",
      "(12, 3, 4210002, 10, 10)\n",
      "(12, 4, 4210003, 6, 24)\n",
      "(12, 5, 6007045, 31, 24)\n",
      "(12, 6, 6007066, 21, 36)\n",
      "(12, 7, 6008070, 11, 36)\n",
      "(12, 8, 8080803, 40, 10)\n",
      "(13, 1, 1100333, 31, 24)\n",
      "(13, 2, 1000223, 21, 5)\n",
      "(13, 3, 4555108, 40, 5)\n",
      "(13, 4, 6007045, 121, 14)\n",
      "(14, 1, 4555108, 41, 50)\n",
      "(14, 2, 9002004, 10, 12)\n",
      "(14, 3, 4555104, 51, 12)\n",
      "(14, 4, 9002006, 230, 5)\n",
      "(14, 5, 6008070, 10, 10)\n",
      "(14, 6, 6007023, 10, 10)\n",
      "(14, 7, 1002025, 51, 24)\n",
      "(14, 8, 1000224, 20, 20)\n",
      "(14, 9, 4210002, 6, 100)\n",
      "(15, 1, 4555108, 41, 20)\n",
      "(15, 2, 6007055, 10, 50)\n",
      "(16, 1, 6007023, 41, 100)\n",
      "(16, 2, 4555108, 21, 20)\n",
      "(16, 3, 6008058, 30, 10)\n",
      "(16, 4, 7078080, 10, 5)\n",
      "(16, 5, 8080803, 61, 45)\n",
      "(17, 1, 7078080, 10, 5)\n",
      "(17, 2, 6008058, 11, 10)\n",
      "(17, 3, 6007055, 20, 12)\n",
      "(17, 4, 4452024, 50, 12)\n",
      "(17, 5, 1002106, 11, 12)\n",
      "(17, 6, 9002003, 100, 5)\n",
      "(18, 1, 4452024, 50, 12)\n",
      "(18, 2, 1100334, 21, 12)\n",
      "(18, 3, 7078080, 20, 12)\n"
     ]
    }
   ],
   "source": [
    "#Ver todo renglones\n",
    "q('SELECT * FROM renglones')"
   ]
  },
  {
   "cell_type": "markdown",
   "metadata": {},
   "source": [
    "g) Mostrar los precios de los productos de las órdenes 2,3, 5, 10, 17 y 18 incrementados en un 10% y redondeados a 2 decimales."
   ]
  },
  {
   "cell_type": "code",
   "execution_count": 6,
   "metadata": {
    "collapsed": true
   },
   "outputs": [
    {
     "name": "stdout",
     "output_type": "stream",
     "text": [
      "['codigo_pro', 'nuevoPrecio']\n",
      "(1100334, 44.0)\n",
      "(6007023, 67.1)\n",
      "(6007045, 132.0)\n",
      "(1034219, 59.4)\n",
      "(1034311, 33.0)\n",
      "(1000225, 78.1)\n",
      "(1100333, 253.0)\n",
      "(4210002, 132.0)\n",
      "(4210004, 67.1)\n",
      "(7078092, 132.0)\n",
      "(9002003, 374.0)\n",
      "(7078092, 34.1)\n",
      "(4210002, 11.0)\n",
      "(8080803, 66.0)\n",
      "(6007066, 55.0)\n",
      "(4210002, 12.1)\n",
      "(1002025, 23.1)\n",
      "(1002106, 132.0)\n",
      "(7078080, 11.0)\n",
      "(6008058, 12.1)\n",
      "(6007055, 22.0)\n",
      "(4452024, 55.0)\n",
      "(1002106, 12.1)\n",
      "(9002003, 110.0)\n",
      "(4452024, 55.0)\n",
      "(1100334, 23.1)\n",
      "(7078080, 22.0)\n"
     ]
    }
   ],
   "source": [
    "q('SELECT r.codigo_pro, ROUND((r.precio*.10 + r.precio),2) AS nuevoPrecio FROM renglones r WHERE nro_orden = 2 OR nro_orden = 3 OR nro_orden = 5 OR nro_orden = 10 OR nro_orden = 17 OR nro_orden = 18;')"
   ]
  },
  {
   "cell_type": "markdown",
   "metadata": {},
   "source": [
    "h) Hallar los nombres de los empleados con longitud mayor a 15."
   ]
  },
  {
   "cell_type": "code",
   "execution_count": 10,
   "metadata": {
    "collapsed": true
   },
   "outputs": [
    {
     "name": "stdout",
     "output_type": "stream",
     "text": [
      "['nombre']\n",
      "('Perez Carlos Alberto',)\n",
      "('Fernandez Maria Cristina',)\n",
      "('Rodriguez Carlos Alberto',)\n",
      "('Marto Lima Fracesca',)\n",
      "('Coronda Ana Laura',)\n",
      "('Martinez Javier Alberto',)\n",
      "('Puan Sandra Maria',)\n",
      "('Valle Alerce Maria',)\n"
     ]
    }
   ],
   "source": [
    "q('SELECT e.nombre FROM empleados e WHERE LENGTH(e.nombre)>15;')"
   ]
  },
  {
   "cell_type": "markdown",
   "metadata": {},
   "source": [
    "### 3 USO DE FUNCIONES DE GRUPO"
   ]
  },
  {
   "cell_type": "markdown",
   "metadata": {},
   "source": [
    "a) Hallar el valor máximo, valor mínimo y promedio de sueldos de los empleados."
   ]
  },
  {
   "cell_type": "code",
   "execution_count": 11,
   "metadata": {
    "collapsed": true
   },
   "outputs": [
    {
     "name": "stdout",
     "output_type": "stream",
     "text": [
      "['maxSalario', 'minSalario', 'avgSalario']\n",
      "(39900, 7700, 17925.0)\n"
     ]
    }
   ],
   "source": [
    "q('SELECT MAX(e.salario) AS maxSalario, MIN(e.salario) AS minSalario, AVG(e.salario) AS avgSalario FROM empleados e;')"
   ]
  },
  {
   "cell_type": "markdown",
   "metadata": {},
   "source": [
    "b) Mostrar la cantidad de empleados por departamento."
   ]
  },
  {
   "cell_type": "code",
   "execution_count": 12,
   "metadata": {
    "collapsed": true
   },
   "outputs": [
    {
     "name": "stdout",
     "output_type": "stream",
     "text": [
      "['codigo_dep', 'cantidadEmpleados']\n",
      "(1, 2)\n",
      "(2, 3)\n",
      "(3, 5)\n",
      "(4, 1)\n",
      "(5, 3)\n",
      "(6, 4)\n"
     ]
    }
   ],
   "source": [
    "q('SELECT e.codigo_dep, d.n, COUNT(*) AS cantidadEmpleados FROM empleados e GROUP BY e.codigo_dep;')"
   ]
  },
  {
   "cell_type": "markdown",
   "metadata": {},
   "source": [
    "c) Hallar el promedio de sueldos por departamento."
   ]
  },
  {
   "cell_type": "code",
   "execution_count": 20,
   "metadata": {
    "collapsed": true
   },
   "outputs": [
    {
     "name": "stdout",
     "output_type": "stream",
     "text": [
      "['nombreDpto', 'avgSalario']\n",
      "('Contable', 18050.0)\n",
      "('RECURSOS HUMANOS', 15883.33)\n",
      "('PRODUCCION', 13940.0)\n",
      "('SISTEMAS', 22000.0)\n",
      "('MARKETING', 25100.0)\n",
      "('COMERCIALIZACION', 17975.0)\n"
     ]
    }
   ],
   "source": [
    "q('SELECT d.nombre AS nombreDpto, ROUND(AVG(e.salario),2) AS avgSalario FROM empleados e, departamentos d WHERE e.codigo_dep = d.codigo GROUP BY codigo_dep;')"
   ]
  },
  {
   "cell_type": "raw",
   "metadata": {},
   "source": [
    "d) Detectar los productos que se han vendido más de una vez."
   ]
  },
  {
   "cell_type": "code",
   "execution_count": 93,
   "metadata": {
    "collapsed": true
   },
   "outputs": [
    {
     "name": "stdout",
     "output_type": "stream",
     "text": [
      "['codigo_pro', 'Cantidad']\n",
      "(1000223, 4)\n",
      "(1000225, 3)\n",
      "(1002025, 2)\n",
      "(1002106, 3)\n",
      "(1034108, 2)\n",
      "(1034219, 2)\n",
      "(1034311, 2)\n",
      "(1100333, 4)\n",
      "(1100334, 2)\n",
      "(4210002, 5)\n",
      "(4452024, 2)\n",
      "(4555102, 2)\n",
      "(4555104, 2)\n",
      "(4555108, 5)\n",
      "(6007023, 3)\n",
      "(6007045, 4)\n",
      "(6007055, 4)\n",
      "(6007066, 3)\n",
      "(6008058, 2)\n",
      "(6008070, 5)\n",
      "(7078080, 4)\n",
      "(7078090, 2)\n",
      "(7078092, 4)\n",
      "(8080803, 7)\n",
      "(9002003, 2)\n",
      "(9002006, 2)\n"
     ]
    }
   ],
   "source": [
    "q('SELECT r.codigo_pro, COUNT(r.codigo_pro) AS Cantidad FROM renglones r GROUP BY r.codigo_pro HAVING count(*)>1;')"
   ]
  },
  {
   "cell_type": "markdown",
   "metadata": {},
   "source": [
    "e) Calcular la cantidad de hombres y mujeres que trabajan en cada\n",
    "departamento."
   ]
  },
  {
   "cell_type": "code",
   "execution_count": 101,
   "metadata": {
    "collapsed": true
   },
   "outputs": [
    {
     "name": "stdout",
     "output_type": "stream",
     "text": [
      "['codigo_dep', 'sexo', 'cantidad']\n",
      "(1, 'M', 2)\n",
      "(2, 'F', 2)\n",
      "(2, 'M', 1)\n",
      "(3, 'F', 2)\n",
      "(3, 'M', 3)\n",
      "(4, 'F', 1)\n",
      "(5, 'F', 2)\n",
      "(5, 'M', 1)\n",
      "(6, 'F', 2)\n",
      "(6, 'M', 2)\n"
     ]
    }
   ],
   "source": [
    "q('SELECT e.codigo_dep, e.sexo, COUNT(*) AS cantidad FROM empleados e GROUP BY e.codigo_dep, e.sexo')"
   ]
  },
  {
   "cell_type": "markdown",
   "metadata": {},
   "source": [
    "f) Mostrar la cantidad de empleados por departamento, para aquellos departamentos con más de 3 empleados."
   ]
  },
  {
   "cell_type": "code",
   "execution_count": 104,
   "metadata": {
    "collapsed": true
   },
   "outputs": [
    {
     "name": "stdout",
     "output_type": "stream",
     "text": [
      "['codigo_dep', 'total']\n",
      "(3, 5)\n",
      "(6, 4)\n"
     ]
    }
   ],
   "source": [
    "q('SELECT e.codigo_dep, count(*) AS total FROM empleados e GROUP BY e.codigo_dep HAVING count(*) > 3;')"
   ]
  },
  {
   "cell_type": "markdown",
   "metadata": {},
   "source": [
    "### 4 COMBINACIÓN DE TABLAS Y CONSULTAS ANIDADAS"
   ]
  },
  {
   "cell_type": "code",
   "execution_count": 58,
   "metadata": {},
   "outputs": [
    {
     "name": "stdout",
     "output_type": "stream",
     "text": [
      "['name']\n",
      "('departamentos',)\n",
      "('empleados',)\n",
      "('ordenes',)\n",
      "('productos',)\n",
      "('proveedores',)\n",
      "('renglones',)\n"
     ]
    }
   ],
   "source": [
    "q(\n",
    "'select name from sqlite_master where type=\"table\";')"
   ]
  },
  {
   "cell_type": "code",
   "execution_count": 76,
   "metadata": {},
   "outputs": [
    {
     "data": {
      "text/plain": [
       "[(0, 'nro_orden', 'decimal(28,0)', 1, \"'0'\", 1),\n",
       " (1, 'nro_renglon', 'decimal(28,0)', 1, \"'0'\", 2),\n",
       " (2, 'codigo_pro', 'decimal(28,0)', 1, \"'0'\", 0),\n",
       " (3, 'precio', 'decimal(28,0)', 1, \"'0'\", 0),\n",
       " (4, 'cantidad', 'decimal(28,0)', 1, \"'0'\", 0)]"
      ]
     },
     "execution_count": 76,
     "metadata": {},
     "output_type": "execute_result"
    }
   ],
   "source": [
    "verTabla('renglones')"
   ]
  },
  {
   "cell_type": "code",
   "execution_count": 29,
   "metadata": {},
   "outputs": [
    {
     "name": "stdout",
     "output_type": "stream",
     "text": [
      "['nro_orden', 'nro_renglon', 'codigo_pro', 'precio', 'cantidad']\n",
      "(1, 1, 1000223, 10, 10)\n",
      "(1, 2, 7078080, 41, 20)\n",
      "(1, 3, 9002006, 41, 100)\n",
      "(2, 1, 1100334, 40, 50)\n",
      "(2, 2, 6007023, 61, 24)\n",
      "(2, 3, 6007045, 120, 10)\n",
      "(2, 4, 1034219, 54, 12)\n",
      "(2, 5, 1034311, 30, 12)\n",
      "(3, 1, 1000225, 71, 80)\n",
      "(3, 2, 1100333, 230, 20)\n",
      "(3, 3, 4210002, 120, 45)\n",
      "(3, 4, 4210004, 61, 110)\n",
      "(3, 5, 7078092, 120, 120)\n",
      "(3, 6, 9002003, 340, 12)\n",
      "(4, 1, 4555102, 50, 100)\n",
      "(4, 2, 1034219, 5, 100)\n",
      "(4, 3, 1034310, 10, 100)\n",
      "(4, 4, 6008070, 30, 100)\n",
      "(5, 1, 7078092, 31, 10)\n",
      "(5, 2, 4210002, 10, 30)\n",
      "(6, 1, 7078090, 31, 120)\n",
      "(6, 2, 7078092, 230, 12)\n",
      "(6, 3, 1002106, 380, 2)\n",
      "(6, 4, 1000225, 30, 30)\n",
      "(6, 5, 1000223, 81, 40)\n",
      "(6, 6, 1002024, 31, 90)\n",
      "(6, 7, 1100333, 10, 110)\n",
      "(7, 1, 1100333, 10, 110)\n",
      "(7, 2, 1034108, 230, 11)\n",
      "(7, 3, 6007045, 30, 24)\n",
      "(7, 4, 6007055, 41, 10)\n",
      "(7, 5, 8080803, 51, 34)\n",
      "(8, 1, 8080803, 61, 34)\n",
      "(8, 2, 7078090, 61, 34)\n",
      "(8, 3, 6008070, 120, 24)\n",
      "(8, 4, 4555108, 50, 55)\n",
      "(9, 1, 8080803, 61, 34)\n",
      "(9, 2, 1034311, 10, 12)\n",
      "(9, 3, 6007055, 6, 24)\n",
      "(9, 4, 6007066, 91, 54)\n",
      "(9, 5, 1034108, 20, 3)\n",
      "(9, 6, 1000223, 10, 66)\n",
      "(9, 7, 1000225, 60, 4)\n",
      "(9, 8, 4555104, 60, 4)\n",
      "(10, 1, 8080803, 60, 24)\n",
      "(10, 2, 6007066, 50, 5)\n",
      "(10, 3, 4210002, 11, 12)\n",
      "(10, 4, 1002025, 21, 5)\n",
      "(10, 5, 1002106, 120, 77)\n",
      "(11, 1, 8080803, 60, 36)\n",
      "(11, 2, 6008070, 70, 24)\n",
      "(11, 3, 4555102, 50, 24)\n",
      "(12, 1, 7078092, 60, 6)\n",
      "(12, 2, 4452025, 30, 10)\n",
      "(12, 3, 4210002, 10, 10)\n",
      "(12, 4, 4210003, 6, 24)\n",
      "(12, 5, 6007045, 31, 24)\n",
      "(12, 6, 6007066, 21, 36)\n",
      "(12, 7, 6008070, 11, 36)\n",
      "(12, 8, 8080803, 40, 10)\n",
      "(13, 1, 1100333, 31, 24)\n",
      "(13, 2, 1000223, 21, 5)\n",
      "(13, 3, 4555108, 40, 5)\n",
      "(13, 4, 6007045, 121, 14)\n",
      "(14, 1, 4555108, 41, 50)\n",
      "(14, 2, 9002004, 10, 12)\n",
      "(14, 3, 4555104, 51, 12)\n",
      "(14, 4, 9002006, 230, 5)\n",
      "(14, 5, 6008070, 10, 10)\n",
      "(14, 6, 6007023, 10, 10)\n",
      "(14, 7, 1002025, 51, 24)\n",
      "(14, 8, 1000224, 20, 20)\n",
      "(14, 9, 4210002, 6, 100)\n",
      "(15, 1, 4555108, 41, 20)\n",
      "(15, 2, 6007055, 10, 50)\n",
      "(16, 1, 6007023, 41, 100)\n",
      "(16, 2, 4555108, 21, 20)\n",
      "(16, 3, 6008058, 30, 10)\n",
      "(16, 4, 7078080, 10, 5)\n",
      "(16, 5, 8080803, 61, 45)\n",
      "(17, 1, 7078080, 10, 5)\n",
      "(17, 2, 6008058, 11, 10)\n",
      "(17, 3, 6007055, 20, 12)\n",
      "(17, 4, 4452024, 50, 12)\n",
      "(17, 5, 1002106, 11, 12)\n",
      "(17, 6, 9002003, 100, 5)\n",
      "(18, 1, 4452024, 50, 12)\n",
      "(18, 2, 1100334, 21, 12)\n",
      "(18, 3, 7078080, 20, 12)\n"
     ]
    }
   ],
   "source": [
    "q('SELECT * FROM renglones')"
   ]
  },
  {
   "cell_type": "markdown",
   "metadata": {},
   "source": [
    "a) Listar los códigos, nombres de proveedores, y cantidad total comprada."
   ]
  },
  {
   "cell_type": "code",
   "execution_count": 86,
   "metadata": {
    "collapsed": true
   },
   "outputs": [
    {
     "name": "stdout",
     "output_type": "stream",
     "text": [
      "['codigo_prv', 'nombre', 'cantidadComprada']\n",
      "(1, 'ATALAYA S.R.L.', 5020)\n",
      "(2, 'ROCAMORA E HIJOS', 9500)\n",
      "(3, 'LA PERUANA', 12028)\n",
      "(4, 'RUTA S.A.', 40870)\n",
      "(5, 'COMODINES', 1702)\n",
      "(6, 'LA SEXTA', 18230)\n",
      "(7, 'AGUSTINEZ Y HERMANOS S.A.', 8935)\n",
      "(8, 'PEREZ, PEREZ, Y RODRIGUEZ', 16207)\n",
      "(9, 'AGUSTIN FERNANDEZ Y ASOCIADOS', 3200)\n",
      "(11, 'PARIS', 2743)\n",
      "(12, 'MIS LAPICES', 23396)\n"
     ]
    }
   ],
   "source": [
    "q('SELECT o.codigo_prv, p.nombre, SUM(r.precio*r.cantidad) AS cantidadComprada FROM proveedores p, ordenes o, renglones r WHERE o.codigo_prv = p.codigo AND o.nro_orden = r.nro_orden GROUP BY o.codigo_prv ORDER BY p.codigo')"
   ]
  },
  {
   "cell_type": "raw",
   "metadata": {},
   "source": [
    "b) Listar para cada proveedor el nombre, número de orden, productos y descripción del mismo."
   ]
  },
  {
   "cell_type": "code",
   "execution_count": 33,
   "metadata": {},
   "outputs": [
    {
     "name": "stdout",
     "output_type": "stream",
     "text": [
      "['nro_orden', 'proveedor', 'codigo_pro', 'descripcion']\n",
      "(12, 'AGUSTIN FERNANDEZ Y ASOCIADOS', 7078092, 'CLIPS PLASTICOS COLOR C045')\n",
      "(12, 'AGUSTIN FERNANDEZ Y ASOCIADOS', 4452025, 'RESMA PAPEL BLANCO OFICIO')\n",
      "(12, 'AGUSTIN FERNANDEZ Y ASOCIADOS', 4210002, 'LAPIZ NEGRO')\n",
      "(12, 'AGUSTIN FERNANDEZ Y ASOCIADOS', 4210003, 'LAPIZ COLOR CAJA 12 UNIDADES')\n",
      "(12, 'AGUSTIN FERNANDEZ Y ASOCIADOS', 6007045, 'BLOCK ECOLOGICO LISO')\n",
      "(12, 'AGUSTIN FERNANDEZ Y ASOCIADOS', 6007066, 'BLOCK ECOLOGICO RAYADO')\n",
      "(12, 'AGUSTIN FERNANDEZ Y ASOCIADOS', 6008070, 'CRAYONES CAJA 12 UNIDADES')\n",
      "(12, 'AGUSTIN FERNANDEZ Y ASOCIADOS', 8080803, 'BIROME TRAZO GRUESO')\n",
      "(15, 'AGUSTINEZ Y HERMANOS S.A.', 4555108, 'AGENDA RICO MC.PATO C/CALCULADORA')\n",
      "(15, 'AGUSTINEZ Y HERMANOS S.A.', 6007055, 'BLOCK ECOLOGICO CUADRICULADO')\n",
      "(16, 'AGUSTINEZ Y HERMANOS S.A.', 6007023, 'CUADERNO ECOLOGICO CUADRICULADO')\n",
      "(16, 'AGUSTINEZ Y HERMANOS S.A.', 4555108, 'AGENDA RICO MC.PATO C/CALCULADORA')\n",
      "(16, 'AGUSTINEZ Y HERMANOS S.A.', 6008058, 'RESALTADOR FLUO DOS COLORES')\n",
      "(16, 'AGUSTINEZ Y HERMANOS S.A.', 7078080, 'CLIPS METALICOS')\n",
      "(16, 'AGUSTINEZ Y HERMANOS S.A.', 8080803, 'BIROME TRAZO GRUESO')\n",
      "(1, 'ATALAYA S.R.L.', 1000223, 'LAPICERA BOLIGRAFO')\n",
      "(1, 'ATALAYA S.R.L.', 7078080, 'CLIPS METALICOS')\n",
      "(1, 'ATALAYA S.R.L.', 9002006, 'REPUESTO HOJAS PIZARRA')\n",
      "(5, 'COMODINES', 7078092, 'CLIPS PLASTICOS COLOR C045')\n",
      "(5, 'COMODINES', 4210002, 'LAPIZ NEGRO')\n",
      "(18, 'COMODINES', 4452024, 'RESMA PAPEL BLANCO CARTA')\n",
      "(18, 'COMODINES', 1100334, 'MARCADOR PUNTA GRUESA')\n",
      "(18, 'COMODINES', 7078080, 'CLIPS METALICOS')\n",
      "(2, 'LA PERUANA', 1100334, 'MARCADOR PUNTA GRUESA')\n",
      "(2, 'LA PERUANA', 6007023, 'CUADERNO ECOLOGICO CUADRICULADO')\n",
      "(2, 'LA PERUANA', 6007045, 'BLOCK ECOLOGICO LISO')\n",
      "(2, 'LA PERUANA', 1034219, 'REPUESTO HOJA RALLADA')\n",
      "(2, 'LA PERUANA', 1034311, 'REPUESTO HOJA PENTAGRAMA')\n",
      "(14, 'LA PERUANA', 4555108, 'AGENDA RICO MC.PATO C/CALCULADORA')\n",
      "(14, 'LA PERUANA', 9002004, 'PIZARRON')\n",
      "(14, 'LA PERUANA', 4555104, 'AGENDA BARBY')\n",
      "(14, 'LA PERUANA', 9002006, 'REPUESTO HOJAS PIZARRA')\n",
      "(14, 'LA PERUANA', 6008070, 'CRAYONES CAJA 12 UNIDADES')\n",
      "(14, 'LA PERUANA', 6007023, 'CUADERNO ECOLOGICO CUADRICULADO')\n",
      "(14, 'LA PERUANA', 1002025, 'CARPETA NRO 6')\n",
      "(14, 'LA PERUANA', 1000224, 'LAPICERA FUENTE')\n",
      "(14, 'LA PERUANA', 4210002, 'LAPIZ NEGRO')\n",
      "(8, 'LA SEXTA', 8080803, 'BIROME TRAZO GRUESO')\n",
      "(8, 'LA SEXTA', 7078090, 'CLIPS PLASTICOS COLOR C023')\n",
      "(8, 'LA SEXTA', 6008070, 'CRAYONES CAJA 12 UNIDADES')\n",
      "(8, 'LA SEXTA', 4555108, 'AGENDA RICO MC.PATO C/CALCULADORA')\n",
      "(9, 'LA SEXTA', 8080803, 'BIROME TRAZO GRUESO')\n",
      "(9, 'LA SEXTA', 1034311, 'REPUESTO HOJA PENTAGRAMA')\n",
      "(9, 'LA SEXTA', 6007055, 'BLOCK ECOLOGICO CUADRICULADO')\n",
      "(9, 'LA SEXTA', 6007066, 'BLOCK ECOLOGICO RAYADO')\n",
      "(9, 'LA SEXTA', 1034108, 'PLASTICOLA')\n",
      "(9, 'LA SEXTA', 1000223, 'LAPICERA BOLIGRAFO')\n",
      "(9, 'LA SEXTA', 1000225, 'CUADERNO  50 HOJAS')\n",
      "(9, 'LA SEXTA', 4555104, 'AGENDA BARBY')\n",
      "(6, 'MIS LAPICES', 7078090, 'CLIPS PLASTICOS COLOR C023')\n",
      "(6, 'MIS LAPICES', 7078092, 'CLIPS PLASTICOS COLOR C045')\n",
      "(6, 'MIS LAPICES', 1002106, 'CARTULINA')\n",
      "(6, 'MIS LAPICES', 1000225, 'CUADERNO  50 HOJAS')\n",
      "(6, 'MIS LAPICES', 1000223, 'LAPICERA BOLIGRAFO')\n",
      "(6, 'MIS LAPICES', 1002024, 'CUADERNO 100 HOJAS')\n",
      "(6, 'MIS LAPICES', 1100333, 'MARCADOR PUNTA FINA')\n",
      "(7, 'MIS LAPICES', 1100333, 'MARCADOR PUNTA FINA')\n",
      "(7, 'MIS LAPICES', 1034108, 'PLASTICOLA')\n",
      "(7, 'MIS LAPICES', 6007045, 'BLOCK ECOLOGICO LISO')\n",
      "(7, 'MIS LAPICES', 6007055, 'BLOCK ECOLOGICO CUADRICULADO')\n",
      "(7, 'MIS LAPICES', 8080803, 'BIROME TRAZO GRUESO')\n",
      "(17, 'MIS LAPICES', 7078080, 'CLIPS METALICOS')\n",
      "(17, 'MIS LAPICES', 6008058, 'RESALTADOR FLUO DOS COLORES')\n",
      "(17, 'MIS LAPICES', 6007055, 'BLOCK ECOLOGICO CUADRICULADO')\n",
      "(17, 'MIS LAPICES', 4452024, 'RESMA PAPEL BLANCO CARTA')\n",
      "(17, 'MIS LAPICES', 1002106, 'CARTULINA')\n",
      "(17, 'MIS LAPICES', 9002003, 'PIZARRA BLANCA')\n",
      "(13, 'PARIS', 1100333, 'MARCADOR PUNTA FINA')\n",
      "(13, 'PARIS', 1000223, 'LAPICERA BOLIGRAFO')\n",
      "(13, 'PARIS', 4555108, 'AGENDA RICO MC.PATO C/CALCULADORA')\n",
      "(13, 'PARIS', 6007045, 'BLOCK ECOLOGICO LISO')\n",
      "(10, 'PEREZ, PEREZ, Y RODRIGUEZ', 8080803, 'BIROME TRAZO GRUESO')\n",
      "(10, 'PEREZ, PEREZ, Y RODRIGUEZ', 6007066, 'BLOCK ECOLOGICO RAYADO')\n",
      "(10, 'PEREZ, PEREZ, Y RODRIGUEZ', 4210002, 'LAPIZ NEGRO')\n",
      "(10, 'PEREZ, PEREZ, Y RODRIGUEZ', 1002025, 'CARPETA NRO 6')\n",
      "(10, 'PEREZ, PEREZ, Y RODRIGUEZ', 1002106, 'CARTULINA')\n",
      "(11, 'PEREZ, PEREZ, Y RODRIGUEZ', 8080803, 'BIROME TRAZO GRUESO')\n",
      "(11, 'PEREZ, PEREZ, Y RODRIGUEZ', 6008070, 'CRAYONES CAJA 12 UNIDADES')\n",
      "(11, 'PEREZ, PEREZ, Y RODRIGUEZ', 4555102, 'AGENDA MICKEY')\n",
      "(4, 'ROCAMORA E HIJOS', 4555102, 'AGENDA MICKEY')\n",
      "(4, 'ROCAMORA E HIJOS', 1034219, 'REPUESTO HOJA RALLADA')\n",
      "(4, 'ROCAMORA E HIJOS', 1034310, 'REPUESTO HOJA CUADRICULADA')\n",
      "(4, 'ROCAMORA E HIJOS', 6008070, 'CRAYONES CAJA 12 UNIDADES')\n",
      "(3, 'RUTA S.A.', 1000225, 'CUADERNO  50 HOJAS')\n",
      "(3, 'RUTA S.A.', 1100333, 'MARCADOR PUNTA FINA')\n",
      "(3, 'RUTA S.A.', 4210002, 'LAPIZ NEGRO')\n",
      "(3, 'RUTA S.A.', 4210004, 'LAPIZ COLOR CAJA 24 UNIDADES')\n",
      "(3, 'RUTA S.A.', 7078092, 'CLIPS PLASTICOS COLOR C045')\n",
      "(3, 'RUTA S.A.', 9002003, 'PIZARRA BLANCA')\n"
     ]
    }
   ],
   "source": [
    "q('SELECT o.nro_orden, p.nombre AS proveedor, r.codigo_pro, s.nombre AS descripcion FROM ordenes o, proveedores p, renglones r, productos s WHERE o.codigo_prv = p.codigo AND o.nro_orden = r.nro_orden AND r.codigo_pro = s.codigo ORDER BY p.nombre;')"
   ]
  },
  {
   "cell_type": "markdown",
   "metadata": {},
   "source": [
    "c) Listar los nombres de los productos correspondientes a órdenes cuyo tipo de pago es CONTADO."
   ]
  },
  {
   "cell_type": "code",
   "execution_count": null,
   "metadata": {},
   "outputs": [],
   "source": [
    "q('')"
   ]
  },
  {
   "cell_type": "markdown",
   "metadata": {},
   "source": [
    "d) Listar los nombres de los diferentes productos que han sido ordenados."
   ]
  },
  {
   "cell_type": "code",
   "execution_count": null,
   "metadata": {},
   "outputs": [],
   "source": [
    "q('')"
   ]
  },
  {
   "cell_type": "markdown",
   "metadata": {},
   "source": [
    "e) Detectar cuáles productos no han sido ordenados."
   ]
  },
  {
   "cell_type": "code",
   "execution_count": null,
   "metadata": {},
   "outputs": [],
   "source": [
    "q('')"
   ]
  },
  {
   "cell_type": "markdown",
   "metadata": {},
   "source": [
    "f) Recuperar el nombre y el departamento de los empleados de mayor sueldo y de los de menor sueldo indicando en una columna la condición de mayor o de menor según corresponda."
   ]
  },
  {
   "cell_type": "code",
   "execution_count": null,
   "metadata": {},
   "outputs": [],
   "source": [
    "q('')"
   ]
  },
  {
   "cell_type": "markdown",
   "metadata": {},
   "source": [
    "g) Obtener el departamento de los empleados que cobran, al menos, el doble que el sueldo promedio de los empleados."
   ]
  },
  {
   "cell_type": "code",
   "execution_count": null,
   "metadata": {},
   "outputs": [],
   "source": [
    "q('')"
   ]
  },
  {
   "cell_type": "markdown",
   "metadata": {},
   "source": [
    "h) Listar el nombre, puesto, sexo y salario de todos los empleados que tienen un salario superior al salario más bajo. Ordenar la recuperación por salario en forma ascendente."
   ]
  },
  {
   "cell_type": "code",
   "execution_count": null,
   "metadata": {},
   "outputs": [],
   "source": [
    "q('')"
   ]
  },
  {
   "cell_type": "markdown",
   "metadata": {},
   "source": [
    "i) Listar las personas que ganen más de 950 pesos que el miembro del personal de sueldo más alto de sexo masculino. Indicar si son hombres o mujeres y su salario."
   ]
  },
  {
   "cell_type": "code",
   "execution_count": null,
   "metadata": {},
   "outputs": [],
   "source": [
    "q('')"
   ]
  },
  {
   "cell_type": "markdown",
   "metadata": {},
   "source": [
    "### 5. CREACION DE TABLAS Y MODIFICACIÓN DE DATOS"
   ]
  },
  {
   "cell_type": "markdown",
   "metadata": {},
   "source": [
    "a)"
   ]
  },
  {
   "cell_type": "code",
   "execution_count": null,
   "metadata": {},
   "outputs": [],
   "source": []
  }
 ],
 "metadata": {
  "kernelspec": {
   "display_name": "Python 3",
   "language": "python",
   "name": "python3"
  },
  "language_info": {
   "codemirror_mode": {
    "name": "ipython",
    "version": 3
   },
   "file_extension": ".py",
   "mimetype": "text/x-python",
   "name": "python",
   "nbconvert_exporter": "python",
   "pygments_lexer": "ipython3",
   "version": "3.6.4"
  }
 },
 "nbformat": 4,
 "nbformat_minor": 2
}
