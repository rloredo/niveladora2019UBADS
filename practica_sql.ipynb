{
 "cells": [
  {
   "cell_type": "markdown",
   "metadata": {},
   "source": [
    "# Práctica SQL ejercicios\n",
    "\n",
    "¿Cómo usar?\n",
    "Correr las celdas individualmente para resolver cada ejercicio.\n",
    "\n",
    "La función q('') toma entre las comillas una sentencia SQL e imprime el resultado de la query\n",
    "La función verTabla('') muestra la estructura de la tabla\n",
    "\n",
    "Shortcuts útiles: \n",
    "                shift + enter -> corre celda\n",
    "                esc + o       -> oculta/muestra resultado impreso"
   ]
  },
  {
   "cell_type": "code",
   "execution_count": 87,
   "metadata": {},
   "outputs": [],
   "source": [
    "#Import sqlite para acceder a base\n",
    "import sqlite3\n",
    "\n",
    "#Poner acá el path a la base\n",
    "archivoBase = 'practica-sql.db'\n",
    "\n",
    "#Conectar a base\n",
    "conn = sqlite3.connect(archivoBase)\n",
    "c = conn.cursor()"
   ]
  },
  {
   "cell_type": "code",
   "execution_count": 88,
   "metadata": {},
   "outputs": [],
   "source": [
    "#Función q para realizar Queries\n",
    "def q (sent):\n",
    "    query = c.execute(sent)\n",
    "    #Imprime encabezados de la query\n",
    "    names = list(map(lambda x: x[0], c.description))\n",
    "    print(names)\n",
    "    #Imprime filas de la query\n",
    "    for row in query:\n",
    "        print(row)\n",
    "\n",
    "#Función para ver estructura de las tablas. El nombre de tabla va como string\n",
    "def verTabla (tabla):\n",
    "    table = str(tabla)\n",
    "    return c.execute(f'PRAGMA table_info(\"{table}\")').fetchall()"
   ]
  },
  {
   "cell_type": "markdown",
   "metadata": {},
   "source": [
    "Ver tablas de la base"
   ]
  },
  {
   "cell_type": "code",
   "execution_count": null,
   "metadata": {},
   "outputs": [],
   "source": [
    "q('select name from sqlite_master where type=\"table\";')"
   ]
  },
  {
   "cell_type": "markdown",
   "metadata": {},
   "source": [
    "Ver estructura de la tabla \"\""
   ]
  },
  {
   "cell_type": "code",
   "execution_count": null,
   "metadata": {},
   "outputs": [],
   "source": [
    "verTabla('empleados')"
   ]
  },
  {
   "cell_type": "code",
   "execution_count": null,
   "metadata": {},
   "outputs": [],
   "source": [
    "verTabla('proveedores')"
   ]
  },
  {
   "cell_type": "markdown",
   "metadata": {},
   "source": [
    "## Ejercicios"
   ]
  },
  {
   "cell_type": "markdown",
   "metadata": {},
   "source": [
    "### 1 SENTENCIA SELECT"
   ]
  },
  {
   "cell_type": "markdown",
   "metadata": {},
   "source": [
    "a) Mostrar el contenido de la tabla empleados."
   ]
  },
  {
   "cell_type": "code",
   "execution_count": null,
   "metadata": {},
   "outputs": [],
   "source": [
    "q('')"
   ]
  },
  {
   "cell_type": "markdown",
   "metadata": {},
   "source": [
    "Solución"
   ]
  },
  {
   "cell_type": "code",
   "execution_count": 89,
   "metadata": {
    "collapsed": true,
    "scrolled": true
   },
   "outputs": [
    {
     "name": "stdout",
     "output_type": "stream",
     "text": [
      "['nombre', 'calle', 'numero', 'piso', 'depto', 'sexo', 'tipo_documento', 'estado_civil', 'codigo', 'nro_documento', 'salario', 'comision', 'codigo_dep']\n",
      "('Perez Carlos Alberto', 'Parana', '555', None, None, 'M', 'DNI', 'SOLTERO', 1, 23194853, 20600, 1000, 1)\n",
      "('Jaime Daniel', 'Pasco', '1685', '5', 'A', 'M', 'DNI', 'CASADO', 2, 15354702, 15500, None, 3)\n",
      "('Miranda Adriana', 'Jujuy', '204', '3', 'H', 'F', 'CI', 'CASADO', 3, 7862169, 17750, 1500, 2)\n",
      "('Cucagna Karina', 'Forest', '856', 'PB', 'A', 'F', 'DNI', 'SOLTERO', 4, 24578699, 15500, None, 5)\n",
      "('Soria Laura', 'Av. Corrientes', '5489', '14', 'C', 'F', 'DNI', 'CASADO', 5, 25471025, 22000, None, 4)\n",
      "('Scorza Miguel', 'Holanda', '245', None, None, 'M', 'DNI', 'CASADO', 6, 8234977, 15500, None, 1)\n",
      "('Deluca Luis', 'Lima', '399', '1', 'D', 'M', 'DNI', 'CASADO', 7, 24614722, 18800, 3500, 2)\n",
      "('Cosio Alejandro', 'Cordoba', '2185', '5', 'W', 'M', 'DNI', 'CASADO', 8, 10547932, 19900, 2500, 3)\n",
      "('Fernandez Maria Cristina', 'Cordoba', '4885', '1', 'A', 'F', 'DNI', 'SOLTERO', 9, 17547222, 13300, None, 3)\n",
      "('Fernandez Sofia', 'Alambes', '344', None, None, 'F', 'DNI', 'CASADO', 10, 11847562, 13300, 2500, 3)\n",
      "('Rodriguez Carlos Alberto', 'Guido', '1234', '5', None, 'M', 'DNI', 'CASADO', 11, 12987677, 29900, 4500, 5)\n",
      "('Marto Lima Fracesca', 'Av. del Corral', '2334', None, None, 'F', 'CI', 'DIVORCIADO', 12, 10547932, 29900, 5500, 5)\n",
      "('Coronda Ana Laura', 'Rawson', '123', None, None, 'F', 'DNI', 'SOLTERO', 13, 24459333, 9900, None, 6)\n",
      "('Casaso Martin', 'Julian Alvarez', '2223', '10', 'H', 'M', 'CI', 'VIUDO', 14, 10897878, 14400, 1000, 6)\n",
      "('Martinez Javier Alberto', 'Del Solar', '32', None, None, 'M', 'CI', 'SOLTERO', 15, 30495887, 7700, None, 6)\n",
      "('Puan Sandra Maria', 'Pasaje del Pilar', '56', '12', None, 'F', 'DNI', 'CASADO', 16, 18123444, 11100, 150, 2)\n",
      "('Valle Alerce Maria', 'Libertador', '3444', '23', None, 'F', 'DNI', 'CASADO', 17, 12555532, 39900, 550, 6)\n",
      "('Asalez Marcos', 'Sarandi', '455', '6', 'J', 'M', 'DNI', 'SOLTERO', 18, 19542382, 7700, None, 3)\n"
     ]
    }
   ],
   "source": [
    "q('SELECT * FROM empleados;')"
   ]
  },
  {
   "cell_type": "markdown",
   "metadata": {},
   "source": [
    "b) Mostrar el nombre y teléfono de los proveedores."
   ]
  },
  {
   "cell_type": "code",
   "execution_count": null,
   "metadata": {},
   "outputs": [],
   "source": [
    "q('')"
   ]
  },
  {
   "cell_type": "markdown",
   "metadata": {},
   "source": [
    "### 2 RESTRICCIÓN Y ORDENAMIENTO DE LAS BÚSQUEDAS"
   ]
  },
  {
   "cell_type": "markdown",
   "metadata": {},
   "source": [
    "a) Mostrar el nombre, salario y estado civil de los empleados del departamento 5."
   ]
  },
  {
   "cell_type": "code",
   "execution_count": null,
   "metadata": {},
   "outputs": [],
   "source": [
    "q('')"
   ]
  },
  {
   "cell_type": "markdown",
   "metadata": {},
   "source": [
    "b) Mostrar el nombre, salario y estado civil de los empleados del departamento 5 que estén casados."
   ]
  },
  {
   "cell_type": "code",
   "execution_count": null,
   "metadata": {},
   "outputs": [],
   "source": [
    "q('')"
   ]
  },
  {
   "cell_type": "markdown",
   "metadata": {},
   "source": [
    "c) Ordenar el resultado obtenido por nombre del empleado."
   ]
  },
  {
   "cell_type": "code",
   "execution_count": null,
   "metadata": {},
   "outputs": [],
   "source": [
    "q('')"
   ]
  },
  {
   "cell_type": "markdown",
   "metadata": {},
   "source": [
    "d) Listar el nombre y la suma del salario y comisión de los empleados que ganen más de 15500 pesos de los departamentos 2 y 5."
   ]
  },
  {
   "cell_type": "code",
   "execution_count": null,
   "metadata": {},
   "outputs": [],
   "source": [
    "q('')"
   ]
  },
  {
   "cell_type": "markdown",
   "metadata": {},
   "source": [
    "e) Listar los empleados con sus salarios y comisiones y calcular el salario anual considerando que el aguinaldo equivale a un mes de sueldo sin contar la comisión."
   ]
  },
  {
   "cell_type": "code",
   "execution_count": null,
   "metadata": {},
   "outputs": [],
   "source": [
    "q('')"
   ]
  },
  {
   "cell_type": "markdown",
   "metadata": {},
   "source": [
    "f) Mostrar los renglones de las órdenes calculando el total de cada renglón."
   ]
  },
  {
   "cell_type": "code",
   "execution_count": null,
   "metadata": {},
   "outputs": [],
   "source": [
    "q('')"
   ]
  },
  {
   "cell_type": "code",
   "execution_count": null,
   "metadata": {},
   "outputs": [],
   "source": [
    "#Hint: ver encabezado de tabla renglones\n",
    "c.execute('PRAGMA table_info(\"renglones\")').fetchall()"
   ]
  },
  {
   "cell_type": "code",
   "execution_count": null,
   "metadata": {},
   "outputs": [],
   "source": [
    "#Hint: ver todo renglones\n",
    "q('SELECT * FROM renglones')"
   ]
  },
  {
   "cell_type": "markdown",
   "metadata": {},
   "source": [
    "g) Mostrar los precios de los productos de las órdenes 2,3, 5, 10, 17 y 18 incrementados en un 10% y redondeados a 2 decimales."
   ]
  },
  {
   "cell_type": "code",
   "execution_count": null,
   "metadata": {},
   "outputs": [],
   "source": [
    "q('')"
   ]
  },
  {
   "cell_type": "markdown",
   "metadata": {},
   "source": [
    "h) Hallar los nombres de los empleados con longitud mayor a 15."
   ]
  },
  {
   "cell_type": "code",
   "execution_count": null,
   "metadata": {},
   "outputs": [],
   "source": [
    "q('')"
   ]
  },
  {
   "cell_type": "markdown",
   "metadata": {},
   "source": [
    "### 3 USO DE FUNCIONES DE GRUPO"
   ]
  },
  {
   "cell_type": "markdown",
   "metadata": {},
   "source": [
    "a) Hallar el valor máximo, valor mínimo y promedio de sueldos de los empleados."
   ]
  },
  {
   "cell_type": "code",
   "execution_count": null,
   "metadata": {},
   "outputs": [],
   "source": [
    "q('')"
   ]
  },
  {
   "cell_type": "markdown",
   "metadata": {},
   "source": [
    "b) Mostrar la cantidad de empleados por departamento."
   ]
  },
  {
   "cell_type": "code",
   "execution_count": null,
   "metadata": {},
   "outputs": [],
   "source": [
    "q('')"
   ]
  },
  {
   "cell_type": "markdown",
   "metadata": {},
   "source": [
    "c) Hallar el promedio de sueldos por departamento."
   ]
  },
  {
   "cell_type": "code",
   "execution_count": null,
   "metadata": {},
   "outputs": [],
   "source": [
    "q('')"
   ]
  },
  {
   "cell_type": "raw",
   "metadata": {},
   "source": [
    "d) Detectar los productos que se han vendido más de una vez."
   ]
  },
  {
   "cell_type": "code",
   "execution_count": null,
   "metadata": {},
   "outputs": [],
   "source": [
    "q('')"
   ]
  },
  {
   "cell_type": "markdown",
   "metadata": {},
   "source": [
    "e) Calcular la cantidad de hombres y mujeres que trabajan en cada\n",
    "departamento."
   ]
  },
  {
   "cell_type": "code",
   "execution_count": null,
   "metadata": {},
   "outputs": [],
   "source": [
    "q('')"
   ]
  },
  {
   "cell_type": "markdown",
   "metadata": {},
   "source": [
    "f) Mostrar la cantidad de empleados por departamento, para aquellos departamentos con más de 3 empleados."
   ]
  },
  {
   "cell_type": "code",
   "execution_count": null,
   "metadata": {},
   "outputs": [],
   "source": [
    "q('')"
   ]
  },
  {
   "cell_type": "markdown",
   "metadata": {},
   "source": [
    "### 4 COMBINACIÓN DE TABLAS Y CONSULTAS ANIDADAS"
   ]
  },
  {
   "cell_type": "code",
   "execution_count": null,
   "metadata": {},
   "outputs": [],
   "source": [
    "#Hint: recordar estructura de la base\n",
    "q('select name from sqlite_master where type=\"table\";')"
   ]
  },
  {
   "cell_type": "code",
   "execution_count": null,
   "metadata": {},
   "outputs": [],
   "source": [
    "#Hint: usar para ver nombres de columnas de las diferentes bases\n",
    "verTabla('renglones')"
   ]
  },
  {
   "cell_type": "code",
   "execution_count": null,
   "metadata": {},
   "outputs": [],
   "source": [
    "#Hint: usar para ver las diferentes tablas\n",
    "q('SELECT * FROM ordenes')"
   ]
  },
  {
   "cell_type": "markdown",
   "metadata": {},
   "source": [
    "a) Listar los códigos, nombres de proveedores, y cantidad total comprada."
   ]
  },
  {
   "cell_type": "code",
   "execution_count": null,
   "metadata": {},
   "outputs": [],
   "source": [
    "q('')"
   ]
  },
  {
   "cell_type": "raw",
   "metadata": {},
   "source": [
    "b) Listar para cada proveedor el nombre, número de orden, productos y descripción del mismo."
   ]
  },
  {
   "cell_type": "code",
   "execution_count": null,
   "metadata": {},
   "outputs": [],
   "source": [
    "q('')"
   ]
  },
  {
   "cell_type": "markdown",
   "metadata": {},
   "source": [
    "c) Listar los nombres de los productos correspondientes a órdenes cuyo tipo de pago es CONTADO."
   ]
  },
  {
   "cell_type": "code",
   "execution_count": null,
   "metadata": {},
   "outputs": [],
   "source": [
    "q('')"
   ]
  },
  {
   "cell_type": "markdown",
   "metadata": {},
   "source": [
    "d) Listar los nombres de los diferentes productos que han sido ordenados."
   ]
  },
  {
   "cell_type": "code",
   "execution_count": null,
   "metadata": {},
   "outputs": [],
   "source": [
    "q('')"
   ]
  },
  {
   "cell_type": "markdown",
   "metadata": {},
   "source": [
    "e) Detectar cuáles productos no han sido ordenados."
   ]
  },
  {
   "cell_type": "code",
   "execution_count": null,
   "metadata": {},
   "outputs": [],
   "source": [
    "q('')"
   ]
  },
  {
   "cell_type": "markdown",
   "metadata": {},
   "source": [
    "f) Recuperar el nombre y el departamento de los empleados de mayor sueldo y de los de menor sueldo indicando en una columna la condición de mayor o de menor según corresponda."
   ]
  },
  {
   "cell_type": "code",
   "execution_count": null,
   "metadata": {},
   "outputs": [],
   "source": [
    "q('')"
   ]
  },
  {
   "cell_type": "markdown",
   "metadata": {},
   "source": [
    "g) Obtener el departamento de los empleados que cobran, al menos, el doble que el sueldo promedio de los empleados."
   ]
  },
  {
   "cell_type": "code",
   "execution_count": null,
   "metadata": {},
   "outputs": [],
   "source": [
    "q('')"
   ]
  },
  {
   "cell_type": "markdown",
   "metadata": {},
   "source": [
    "h) Listar el nombre, puesto, sexo y salario de todos los empleados que tienen un salario superior al salario más bajo. Ordenar la recuperación por salario en forma ascendente."
   ]
  },
  {
   "cell_type": "code",
   "execution_count": null,
   "metadata": {},
   "outputs": [],
   "source": [
    "q('')"
   ]
  },
  {
   "cell_type": "markdown",
   "metadata": {},
   "source": [
    "i) Listar las personas que ganen más de 950 pesos que el miembro del personal de sueldo más alto de sexo masculino. Indicar si son hombres o mujeres y su salario."
   ]
  },
  {
   "cell_type": "code",
   "execution_count": null,
   "metadata": {},
   "outputs": [],
   "source": [
    "q('')"
   ]
  }
 ],
 "metadata": {
  "kernelspec": {
   "display_name": "Python 3",
   "language": "python",
   "name": "python3"
  },
  "language_info": {
   "codemirror_mode": {
    "name": "ipython",
    "version": 3
   },
   "file_extension": ".py",
   "mimetype": "text/x-python",
   "name": "python",
   "nbconvert_exporter": "python",
   "pygments_lexer": "ipython3",
   "version": "3.6.4"
  }
 },
 "nbformat": 4,
 "nbformat_minor": 2
}
