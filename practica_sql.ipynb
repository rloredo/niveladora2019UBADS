{
 "cells": [
  {
   "cell_type": "code",
   "execution_count": 43,
   "metadata": {},
   "outputs": [],
   "source": [
    "import sqlite3\n",
    "conn = sqlite3.connect('practica-sql.db')\n",
    "c = conn.cursor()"
   ]
  },
  {
   "cell_type": "code",
   "execution_count": 90,
   "metadata": {},
   "outputs": [],
   "source": [
    "def q (sent):\n",
    "    c.execute(sent)\n",
    "    names = list(map(lambda x: x[0], c.description))\n",
    "    print(names)\n",
    "    for row in c.execute(sent):\n",
    "        print(row)"
   ]
  },
  {
   "cell_type": "markdown",
   "metadata": {},
   "source": [
    "Ver tablas de la base"
   ]
  },
  {
   "cell_type": "code",
   "execution_count": 45,
   "metadata": {
    "collapsed": true
   },
   "outputs": [
    {
     "name": "stdout",
     "output_type": "stream",
     "text": [
      "('departamentos',)\n",
      "('empleados',)\n",
      "('ordenes',)\n",
      "('productos',)\n",
      "('proveedores',)\n",
      "('renglones',)\n"
     ]
    }
   ],
   "source": [
    "q('select name from sqlite_master where type=\"table\";')"
   ]
  },
  {
   "cell_type": "markdown",
   "metadata": {},
   "source": [
    "Ver estructura de la tabla \"\""
   ]
  },
  {
   "cell_type": "code",
   "execution_count": 46,
   "metadata": {
    "collapsed": true
   },
   "outputs": [
    {
     "data": {
      "text/plain": [
       "[(0, 'nombre', 'varchar(255)', 0, \"''\", 0),\n",
       " (1, 'calle', 'varchar(255)', 0, \"''\", 0),\n",
       " (2, 'numero', 'varchar(255)', 0, \"''\", 0),\n",
       " (3, 'piso', 'varchar(255)', 0, \"''\", 0),\n",
       " (4, 'depto', 'varchar(255)', 0, \"''\", 0),\n",
       " (5, 'sexo', 'varchar(255)', 0, \"''\", 0),\n",
       " (6, 'tipo_documento', 'varchar(255)', 0, \"''\", 0),\n",
       " (7, 'estado_civil', 'varchar(255)', 0, \"''\", 0),\n",
       " (8, 'codigo', 'decimal(28,0)', 1, \"'0'\", 1),\n",
       " (9, 'nro_documento', 'decimal(28,0)', 1, \"'0'\", 0),\n",
       " (10, 'salario', 'decimal(28,0)', 1, \"'0'\", 0),\n",
       " (11, 'comision', 'decimal(28,0)', 0, \"'0'\", 0),\n",
       " (12, 'codigo_dep', 'decimal(28,0)', 0, \"'0'\", 0)]"
      ]
     },
     "execution_count": 46,
     "metadata": {},
     "output_type": "execute_result"
    }
   ],
   "source": [
    "c.execute('PRAGMA table_info(\"empleados\")').fetchall()"
   ]
  },
  {
   "cell_type": "code",
   "execution_count": 47,
   "metadata": {},
   "outputs": [
    {
     "data": {
      "text/plain": [
       "[(0, 'nombre', 'varchar(255)', 0, \"''\", 0),\n",
       " (1, 'direccion', 'varchar(255)', 0, \"''\", 0),\n",
       " (2, 'ciudad', 'varchar(255)', 0, \"''\", 0),\n",
       " (3, 'telefono', 'varchar(255)', 0, \"''\", 0),\n",
       " (4, 'tipo_credito', 'varchar(255)', 0, \"''\", 0),\n",
       " (5, 'codigo', 'decimal(28,0)', 1, \"'0'\", 1)]"
      ]
     },
     "execution_count": 47,
     "metadata": {},
     "output_type": "execute_result"
    }
   ],
   "source": [
    "c.execute('PRAGMA table_info(\"proveedores\")').fetchall()"
   ]
  },
  {
   "cell_type": "markdown",
   "metadata": {},
   "source": [
    "## Ejercicios"
   ]
  },
  {
   "cell_type": "markdown",
   "metadata": {},
   "source": [
    "### 1 SENTENCIA SELECT"
   ]
  },
  {
   "cell_type": "markdown",
   "metadata": {},
   "source": [
    "a) Mostrar el contenido de la tabla empleados."
   ]
  },
  {
   "cell_type": "code",
   "execution_count": 91,
   "metadata": {
    "collapsed": true
   },
   "outputs": [
    {
     "name": "stdout",
     "output_type": "stream",
     "text": [
      "['nombre', 'calle', 'numero', 'piso', 'depto', 'sexo', 'tipo_documento', 'estado_civil', 'codigo', 'nro_documento', 'salario', 'comision', 'codigo_dep']\n",
      "('Perez Carlos Alberto', 'Parana', '555', None, None, 'M', 'DNI', 'SOLTERO', 1, 23194853, 20600, 1000, 1)\n",
      "('Jaime Daniel', 'Pasco', '1685', '5', 'A', 'M', 'DNI', 'CASADO', 2, 15354702, 15500, None, 3)\n",
      "('Miranda Adriana', 'Jujuy', '204', '3', 'H', 'F', 'CI', 'CASADO', 3, 7862169, 17750, 1500, 2)\n",
      "('Cucagna Karina', 'Forest', '856', 'PB', 'A', 'F', 'DNI', 'SOLTERO', 4, 24578699, 15500, None, 5)\n",
      "('Soria Laura', 'Av. Corrientes', '5489', '14', 'C', 'F', 'DNI', 'CASADO', 5, 25471025, 22000, None, 4)\n",
      "('Scorza Miguel', 'Holanda', '245', None, None, 'M', 'DNI', 'CASADO', 6, 8234977, 15500, None, 1)\n",
      "('Deluca Luis', 'Lima', '399', '1', 'D', 'M', 'DNI', 'CASADO', 7, 24614722, 18800, 3500, 2)\n",
      "('Cosio Alejandro', 'Cordoba', '2185', '5', 'W', 'M', 'DNI', 'CASADO', 8, 10547932, 19900, 2500, 3)\n",
      "('Fernandez Maria Cristina', 'Cordoba', '4885', '1', 'A', 'F', 'DNI', 'SOLTERO', 9, 17547222, 13300, None, 3)\n",
      "('Fernandez Sofia', 'Alambes', '344', None, None, 'F', 'DNI', 'CASADO', 10, 11847562, 13300, 2500, 3)\n",
      "('Rodriguez Carlos Alberto', 'Guido', '1234', '5', None, 'M', 'DNI', 'CASADO', 11, 12987677, 29900, 4500, 5)\n",
      "('Marto Lima Fracesca', 'Av. del Corral', '2334', None, None, 'F', 'CI', 'DIVORCIADO', 12, 10547932, 29900, 5500, 5)\n",
      "('Coronda Ana Laura', 'Rawson', '123', None, None, 'F', 'DNI', 'SOLTERO', 13, 24459333, 9900, None, 6)\n",
      "('Casaso Martin', 'Julian Alvarez', '2223', '10', 'H', 'M', 'CI', 'VIUDO', 14, 10897878, 14400, 1000, 6)\n",
      "('Martinez Javier Alberto', 'Del Solar', '32', None, None, 'M', 'CI', 'SOLTERO', 15, 30495887, 7700, None, 6)\n",
      "('Puan Sandra Maria', 'Pasaje del Pilar', '56', '12', None, 'F', 'DNI', 'CASADO', 16, 18123444, 11100, 150, 2)\n",
      "('Valle Alerce Maria', 'Libertador', '3444', '23', None, 'F', 'DNI', 'CASADO', 17, 12555532, 39900, 550, 6)\n",
      "('Asalez Marcos', 'Sarandi', '455', '6', 'J', 'M', 'DNI', 'SOLTERO', 18, 19542382, 7700, None, 3)\n"
     ]
    }
   ],
   "source": [
    "q('select * from empleados;')"
   ]
  },
  {
   "cell_type": "markdown",
   "metadata": {},
   "source": [
    "b) Mostrar el nombre y teléfono de los proveedores."
   ]
  },
  {
   "cell_type": "code",
   "execution_count": 50,
   "metadata": {
    "collapsed": true
   },
   "outputs": [
    {
     "name": "stdout",
     "output_type": "stream",
     "text": [
      "('ATALAYA S.R.L.', '4777-3456')\n",
      "('ROCAMORA E HIJOS', '4752-7620')\n",
      "('LA PERUANA', '4432-0485')\n",
      "('RUTA S.A.', '4285-0932')\n",
      "('COMODINES', '4436-9332')\n",
      "('LA SEXTA', '02336-9332')\n",
      "('AGUSTINEZ Y HERMANOS S.A.', '4554-9344')\n",
      "('PEREZ, PEREZ, Y RODRIGUEZ', '4999-1313')\n",
      "('AGUSTIN FERNANDEZ Y ASOCIADOS', '023-36-7727')\n",
      "('COMODO S.R.L.', '0996-1122')\n",
      "('PARIS', '021-26-1220')\n",
      "('MIS LAPICES', '1212-3332')\n"
     ]
    }
   ],
   "source": [
    "q('select p.nombre, p.telefono from proveedores p;')"
   ]
  },
  {
   "cell_type": "markdown",
   "metadata": {},
   "source": [
    "### 2 RESTRICCIÓN Y ORDENAMIENTO DE LAS BÚSQUEDAS"
   ]
  },
  {
   "cell_type": "markdown",
   "metadata": {},
   "source": [
    "a) Mostrar el nombre, salario y estado civil de los empleados del departamento 5."
   ]
  },
  {
   "cell_type": "code",
   "execution_count": 51,
   "metadata": {
    "collapsed": true
   },
   "outputs": [
    {
     "name": "stdout",
     "output_type": "stream",
     "text": [
      "('Cucagna Karina', 15500, 'SOLTERO')\n",
      "('Rodriguez Carlos Alberto', 29900, 'CASADO')\n",
      "('Marto Lima Fracesca', 29900, 'DIVORCIADO')\n"
     ]
    }
   ],
   "source": [
    "q('select e.nombre, e.salario, e.estado_civil from empleados e where e.codigo_dep = 5')"
   ]
  },
  {
   "cell_type": "markdown",
   "metadata": {},
   "source": [
    "b) Mostrar el nombre, salario y estado civil de los empleados del departamento 5 que estén casados."
   ]
  },
  {
   "cell_type": "code",
   "execution_count": 53,
   "metadata": {
    "collapsed": true
   },
   "outputs": [
    {
     "name": "stdout",
     "output_type": "stream",
     "text": [
      "('Rodriguez Carlos Alberto', 29900, 'CASADO')\n"
     ]
    }
   ],
   "source": [
    "q('select e.nombre, e.salario, e.estado_civil from empleados e where e.codigo_dep = 5 AND e.estado_civil = \"CASADO\";')"
   ]
  },
  {
   "cell_type": "markdown",
   "metadata": {},
   "source": [
    "c) Ordenar el resultado obtenido por nombre del empleado."
   ]
  },
  {
   "cell_type": "code",
   "execution_count": 54,
   "metadata": {
    "collapsed": true
   },
   "outputs": [
    {
     "name": "stdout",
     "output_type": "stream",
     "text": [
      "('Rodriguez Carlos Alberto', 29900, 'CASADO')\n"
     ]
    }
   ],
   "source": [
    "q('SELECT e.nombre, e.salario, e.estado_civil FROM empleados e WHERE e.codigo_dep = 5 AND e.estado_civil = \"CASADO\" ORDER BY e.nombre;')"
   ]
  },
  {
   "cell_type": "markdown",
   "metadata": {},
   "source": [
    "d) Listar el nombre y la suma del salario y comisión de los empleados que ganen más de 15500 pesos de los departamentos 2 y 5."
   ]
  },
  {
   "cell_type": "code",
   "execution_count": 72,
   "metadata": {
    "collapsed": true
   },
   "outputs": [
    {
     "name": "stdout",
     "output_type": "stream",
     "text": [
      "('Perez Carlos Alberto', 21600)\n",
      "('Miranda Adriana', 19250)\n",
      "('Soria Laura', None)\n",
      "('Deluca Luis', 22300)\n",
      "('Cosio Alejandro', 22400)\n",
      "('Rodriguez Carlos Alberto', 34400)\n",
      "('Marto Lima Fracesca', 35400)\n",
      "('Valle Alerce Maria', 40450)\n"
     ]
    }
   ],
   "source": [
    "q('select e.nombre, (e.salario+e.comision) AS sumaSalarioComision from empleados e where e.salario > 15500 AND (e.codigo_dep = 2 OR e.codigo_dep = 5);')"
   ]
  },
  {
   "cell_type": "markdown",
   "metadata": {},
   "source": [
    "e) Listar los empleados con sus salarios y comisiones y calcular el salario anual considerando que el aguinaldo equivale a un mes de sueldo sin contar la comisión."
   ]
  },
  {
   "cell_type": "code",
   "execution_count": 59,
   "metadata": {
    "collapsed": true
   },
   "outputs": [
    {
     "name": "stdout",
     "output_type": "stream",
     "text": [
      "('Perez Carlos Alberto', 20600, 1000, 247200)\n",
      "('Jaime Daniel', 15500, None, 186000)\n",
      "('Miranda Adriana', 17750, 1500, 213000)\n",
      "('Cucagna Karina', 15500, None, 186000)\n",
      "('Soria Laura', 22000, None, 264000)\n",
      "('Scorza Miguel', 15500, None, 186000)\n",
      "('Deluca Luis', 18800, 3500, 225600)\n",
      "('Cosio Alejandro', 19900, 2500, 238800)\n",
      "('Fernandez Maria Cristina', 13300, None, 159600)\n",
      "('Fernandez Sofia', 13300, 2500, 159600)\n",
      "('Rodriguez Carlos Alberto', 29900, 4500, 358800)\n",
      "('Marto Lima Fracesca', 29900, 5500, 358800)\n",
      "('Coronda Ana Laura', 9900, None, 118800)\n",
      "('Casaso Martin', 14400, 1000, 172800)\n",
      "('Martinez Javier Alberto', 7700, None, 92400)\n",
      "('Puan Sandra Maria', 11100, 150, 133200)\n",
      "('Valle Alerce Maria', 39900, 550, 478800)\n",
      "('Asalez Marcos', 7700, None, 92400)\n"
     ]
    }
   ],
   "source": [
    "q('SELECT e.nombre, e.salario, e.comision, (e.salario*12) AS salarioAnual FROM empleados e')"
   ]
  },
  {
   "cell_type": "markdown",
   "metadata": {},
   "source": [
    "f) Mostrar los renglones de las órdenes calculando el total de cada renglón."
   ]
  },
  {
   "cell_type": "code",
   "execution_count": 67,
   "metadata": {
    "collapsed": true
   },
   "outputs": [
    {
     "name": "stdout",
     "output_type": "stream",
     "text": [
      "(1, 100)\n",
      "(2, 820)\n",
      "(3, 4100)\n",
      "(1, 2000)\n",
      "(2, 1464)\n",
      "(3, 1200)\n",
      "(4, 648)\n",
      "(5, 360)\n",
      "(1, 5680)\n",
      "(2, 4600)\n",
      "(3, 5400)\n",
      "(4, 6710)\n",
      "(5, 14400)\n",
      "(6, 4080)\n",
      "(1, 5000)\n",
      "(2, 500)\n",
      "(3, 1000)\n",
      "(4, 3000)\n",
      "(1, 310)\n",
      "(2, 300)\n",
      "(1, 3720)\n",
      "(2, 2760)\n",
      "(3, 760)\n",
      "(4, 900)\n",
      "(5, 3240)\n",
      "(6, 2790)\n",
      "(7, 1100)\n",
      "(1, 1100)\n",
      "(2, 2530)\n",
      "(3, 720)\n",
      "(4, 410)\n",
      "(5, 1734)\n",
      "(1, 2074)\n",
      "(2, 2074)\n",
      "(3, 2880)\n",
      "(4, 2750)\n",
      "(1, 2074)\n",
      "(2, 120)\n",
      "(3, 144)\n",
      "(4, 4914)\n",
      "(5, 60)\n",
      "(6, 660)\n",
      "(7, 240)\n",
      "(8, 240)\n",
      "(1, 1440)\n",
      "(2, 250)\n",
      "(3, 132)\n",
      "(4, 105)\n",
      "(5, 9240)\n",
      "(1, 2160)\n",
      "(2, 1680)\n",
      "(3, 1200)\n",
      "(1, 360)\n",
      "(2, 300)\n",
      "(3, 100)\n",
      "(4, 144)\n",
      "(5, 744)\n",
      "(6, 756)\n",
      "(7, 396)\n",
      "(8, 400)\n",
      "(1, 744)\n",
      "(2, 105)\n",
      "(3, 200)\n",
      "(4, 1694)\n",
      "(1, 2050)\n",
      "(2, 120)\n",
      "(3, 612)\n",
      "(4, 1150)\n",
      "(5, 100)\n",
      "(6, 100)\n",
      "(7, 1224)\n",
      "(8, 400)\n",
      "(9, 600)\n",
      "(1, 820)\n",
      "(2, 500)\n",
      "(1, 4100)\n",
      "(2, 420)\n",
      "(3, 300)\n",
      "(4, 50)\n",
      "(5, 2745)\n",
      "(1, 50)\n",
      "(2, 110)\n",
      "(3, 240)\n",
      "(4, 600)\n",
      "(5, 132)\n",
      "(6, 500)\n",
      "(1, 600)\n",
      "(2, 252)\n",
      "(3, 240)\n"
     ]
    }
   ],
   "source": [
    "q('SELECT r.nro_renglon, (r.precio*r.cantidad) AS total FROM renglones r;')"
   ]
  },
  {
   "cell_type": "code",
   "execution_count": 76,
   "metadata": {},
   "outputs": [
    {
     "data": {
      "text/plain": [
       "[(0, 'nro_orden', 'decimal(28,0)', 1, \"'0'\", 1),\n",
       " (1, 'nro_renglon', 'decimal(28,0)', 1, \"'0'\", 2),\n",
       " (2, 'codigo_pro', 'decimal(28,0)', 1, \"'0'\", 0),\n",
       " (3, 'precio', 'decimal(28,0)', 1, \"'0'\", 0),\n",
       " (4, 'cantidad', 'decimal(28,0)', 1, \"'0'\", 0)]"
      ]
     },
     "execution_count": 76,
     "metadata": {},
     "output_type": "execute_result"
    }
   ],
   "source": [
    "#Ver encabezado de tabla renglones\n",
    "c.execute('PRAGMA table_info(\"renglones\")').fetchall()"
   ]
  },
  {
   "cell_type": "code",
   "execution_count": 75,
   "metadata": {
    "collapsed": true
   },
   "outputs": [
    {
     "name": "stdout",
     "output_type": "stream",
     "text": [
      "(1, 1, 1000223, 10, 10)\n",
      "(1, 2, 7078080, 41, 20)\n",
      "(1, 3, 9002006, 41, 100)\n",
      "(2, 1, 1100334, 40, 50)\n",
      "(2, 2, 6007023, 61, 24)\n",
      "(2, 3, 6007045, 120, 10)\n",
      "(2, 4, 1034219, 54, 12)\n",
      "(2, 5, 1034311, 30, 12)\n",
      "(3, 1, 1000225, 71, 80)\n",
      "(3, 2, 1100333, 230, 20)\n",
      "(3, 3, 4210002, 120, 45)\n",
      "(3, 4, 4210004, 61, 110)\n",
      "(3, 5, 7078092, 120, 120)\n",
      "(3, 6, 9002003, 340, 12)\n",
      "(4, 1, 4555102, 50, 100)\n",
      "(4, 2, 1034219, 5, 100)\n",
      "(4, 3, 1034310, 10, 100)\n",
      "(4, 4, 6008070, 30, 100)\n",
      "(5, 1, 7078092, 31, 10)\n",
      "(5, 2, 4210002, 10, 30)\n",
      "(6, 1, 7078090, 31, 120)\n",
      "(6, 2, 7078092, 230, 12)\n",
      "(6, 3, 1002106, 380, 2)\n",
      "(6, 4, 1000225, 30, 30)\n",
      "(6, 5, 1000223, 81, 40)\n",
      "(6, 6, 1002024, 31, 90)\n",
      "(6, 7, 1100333, 10, 110)\n",
      "(7, 1, 1100333, 10, 110)\n",
      "(7, 2, 1034108, 230, 11)\n",
      "(7, 3, 6007045, 30, 24)\n",
      "(7, 4, 6007055, 41, 10)\n",
      "(7, 5, 8080803, 51, 34)\n",
      "(8, 1, 8080803, 61, 34)\n",
      "(8, 2, 7078090, 61, 34)\n",
      "(8, 3, 6008070, 120, 24)\n",
      "(8, 4, 4555108, 50, 55)\n",
      "(9, 1, 8080803, 61, 34)\n",
      "(9, 2, 1034311, 10, 12)\n",
      "(9, 3, 6007055, 6, 24)\n",
      "(9, 4, 6007066, 91, 54)\n",
      "(9, 5, 1034108, 20, 3)\n",
      "(9, 6, 1000223, 10, 66)\n",
      "(9, 7, 1000225, 60, 4)\n",
      "(9, 8, 4555104, 60, 4)\n",
      "(10, 1, 8080803, 60, 24)\n",
      "(10, 2, 6007066, 50, 5)\n",
      "(10, 3, 4210002, 11, 12)\n",
      "(10, 4, 1002025, 21, 5)\n",
      "(10, 5, 1002106, 120, 77)\n",
      "(11, 1, 8080803, 60, 36)\n",
      "(11, 2, 6008070, 70, 24)\n",
      "(11, 3, 4555102, 50, 24)\n",
      "(12, 1, 7078092, 60, 6)\n",
      "(12, 2, 4452025, 30, 10)\n",
      "(12, 3, 4210002, 10, 10)\n",
      "(12, 4, 4210003, 6, 24)\n",
      "(12, 5, 6007045, 31, 24)\n",
      "(12, 6, 6007066, 21, 36)\n",
      "(12, 7, 6008070, 11, 36)\n",
      "(12, 8, 8080803, 40, 10)\n",
      "(13, 1, 1100333, 31, 24)\n",
      "(13, 2, 1000223, 21, 5)\n",
      "(13, 3, 4555108, 40, 5)\n",
      "(13, 4, 6007045, 121, 14)\n",
      "(14, 1, 4555108, 41, 50)\n",
      "(14, 2, 9002004, 10, 12)\n",
      "(14, 3, 4555104, 51, 12)\n",
      "(14, 4, 9002006, 230, 5)\n",
      "(14, 5, 6008070, 10, 10)\n",
      "(14, 6, 6007023, 10, 10)\n",
      "(14, 7, 1002025, 51, 24)\n",
      "(14, 8, 1000224, 20, 20)\n",
      "(14, 9, 4210002, 6, 100)\n",
      "(15, 1, 4555108, 41, 20)\n",
      "(15, 2, 6007055, 10, 50)\n",
      "(16, 1, 6007023, 41, 100)\n",
      "(16, 2, 4555108, 21, 20)\n",
      "(16, 3, 6008058, 30, 10)\n",
      "(16, 4, 7078080, 10, 5)\n",
      "(16, 5, 8080803, 61, 45)\n",
      "(17, 1, 7078080, 10, 5)\n",
      "(17, 2, 6008058, 11, 10)\n",
      "(17, 3, 6007055, 20, 12)\n",
      "(17, 4, 4452024, 50, 12)\n",
      "(17, 5, 1002106, 11, 12)\n",
      "(17, 6, 9002003, 100, 5)\n",
      "(18, 1, 4452024, 50, 12)\n",
      "(18, 2, 1100334, 21, 12)\n",
      "(18, 3, 7078080, 20, 12)\n"
     ]
    }
   ],
   "source": [
    "#Ver todo renglones\n",
    "q('SELECT * FROM renglones')"
   ]
  },
  {
   "cell_type": "markdown",
   "metadata": {},
   "source": [
    "g) Mostrar los precios de los productos de las órdenes 2,3, 5, 10, 17 y 18 incrementados en un 10% y redondeados a 2 decimales."
   ]
  },
  {
   "cell_type": "code",
   "execution_count": null,
   "metadata": {},
   "outputs": [],
   "source": [
    "q('')"
   ]
  },
  {
   "cell_type": "markdown",
   "metadata": {},
   "source": [
    "h) Hallar los nombres de los empleados con longitud mayor a 15."
   ]
  },
  {
   "cell_type": "code",
   "execution_count": null,
   "metadata": {},
   "outputs": [],
   "source": []
  },
  {
   "cell_type": "markdown",
   "metadata": {},
   "source": [
    "### 3 USO DE FUNCIONES DE GRUPO"
   ]
  },
  {
   "cell_type": "markdown",
   "metadata": {},
   "source": [
    "a) Hallar el valor máximo, valor mínimo y promedio de sueldos de los empleados."
   ]
  },
  {
   "cell_type": "code",
   "execution_count": null,
   "metadata": {},
   "outputs": [],
   "source": []
  },
  {
   "cell_type": "markdown",
   "metadata": {},
   "source": [
    "b) Mostrar la cantidad de empleados por departamento."
   ]
  },
  {
   "cell_type": "code",
   "execution_count": null,
   "metadata": {},
   "outputs": [],
   "source": []
  },
  {
   "cell_type": "markdown",
   "metadata": {},
   "source": [
    "c) Hallar el promedio de sueldos por departamento."
   ]
  },
  {
   "cell_type": "code",
   "execution_count": 74,
   "metadata": {
    "collapsed": true
   },
   "outputs": [
    {
     "name": "stdout",
     "output_type": "stream",
     "text": [
      "(1, 18050.0)\n",
      "(2, 15883.33)\n",
      "(3, 13940.0)\n",
      "(4, 22000.0)\n",
      "(5, 25100.0)\n",
      "(6, 17975.0)\n"
     ]
    }
   ],
   "source": [
    "q('SELECT e.codigo_dep, ROUND(AVG(e.salario),2) AS avgSalario FROM empleados e GROUP BY codigo_dep;')"
   ]
  },
  {
   "cell_type": "raw",
   "metadata": {},
   "source": [
    "d) Detectar los productos que se han vendido más de una vez."
   ]
  },
  {
   "cell_type": "code",
   "execution_count": 93,
   "metadata": {
    "collapsed": true
   },
   "outputs": [
    {
     "name": "stdout",
     "output_type": "stream",
     "text": [
      "['codigo_pro', 'Cantidad']\n",
      "(1000223, 4)\n",
      "(1000225, 3)\n",
      "(1002025, 2)\n",
      "(1002106, 3)\n",
      "(1034108, 2)\n",
      "(1034219, 2)\n",
      "(1034311, 2)\n",
      "(1100333, 4)\n",
      "(1100334, 2)\n",
      "(4210002, 5)\n",
      "(4452024, 2)\n",
      "(4555102, 2)\n",
      "(4555104, 2)\n",
      "(4555108, 5)\n",
      "(6007023, 3)\n",
      "(6007045, 4)\n",
      "(6007055, 4)\n",
      "(6007066, 3)\n",
      "(6008058, 2)\n",
      "(6008070, 5)\n",
      "(7078080, 4)\n",
      "(7078090, 2)\n",
      "(7078092, 4)\n",
      "(8080803, 7)\n",
      "(9002003, 2)\n",
      "(9002006, 2)\n"
     ]
    }
   ],
   "source": [
    "q('SELECT r.codigo_pro, COUNT(r.codigo_pro) AS Cantidad FROM renglones r GROUP BY r.codigo_pro HAVING count(*)>1;')"
   ]
  },
  {
   "cell_type": "markdown",
   "metadata": {},
   "source": [
    "e) Calcular la cantidad de hombres y mujeres que trabajan en cada\n",
    "departamento."
   ]
  },
  {
   "cell_type": "code",
   "execution_count": 101,
   "metadata": {
    "collapsed": true
   },
   "outputs": [
    {
     "name": "stdout",
     "output_type": "stream",
     "text": [
      "['codigo_dep', 'sexo', 'cantidad']\n",
      "(1, 'M', 2)\n",
      "(2, 'F', 2)\n",
      "(2, 'M', 1)\n",
      "(3, 'F', 2)\n",
      "(3, 'M', 3)\n",
      "(4, 'F', 1)\n",
      "(5, 'F', 2)\n",
      "(5, 'M', 1)\n",
      "(6, 'F', 2)\n",
      "(6, 'M', 2)\n"
     ]
    }
   ],
   "source": [
    "q('SELECT e.codigo_dep, e.sexo, COUNT(*) AS cantidad FROM empleados e GROUP BY e.codigo_dep, e.sexo')"
   ]
  },
  {
   "cell_type": "markdown",
   "metadata": {},
   "source": [
    "f) Mostrar la cantidad de empleados por departamento, para aquellos departamentos con más de 3 empleados."
   ]
  },
  {
   "cell_type": "code",
   "execution_count": 104,
   "metadata": {},
   "outputs": [
    {
     "name": "stdout",
     "output_type": "stream",
     "text": [
      "['codigo_dep', 'total']\n",
      "(3, 5)\n",
      "(6, 4)\n"
     ]
    }
   ],
   "source": [
    "q('SELECT e.codigo_dep, count(*) AS total FROM empleados e GROUP BY e.codigo_dep HAVING count(*) > 3;')"
   ]
  },
  {
   "cell_type": "markdown",
   "metadata": {},
   "source": [
    "### 4 COMBINACIÓN DE TABLAS Y CONSULTAS ANIDADAS"
   ]
  },
  {
   "cell_type": "markdown",
   "metadata": {},
   "source": [
    "a) Listar los códigos, nombres de proveedores, y cantidad total comprada."
   ]
  },
  {
   "cell_type": "code",
   "execution_count": null,
   "metadata": {},
   "outputs": [],
   "source": []
  },
  {
   "cell_type": "markdown",
   "metadata": {},
   "source": [
    "b) Listar para cada proveedor el nombre, número de orden, productos y descripción del mismo."
   ]
  },
  {
   "cell_type": "code",
   "execution_count": null,
   "metadata": {},
   "outputs": [],
   "source": []
  },
  {
   "cell_type": "markdown",
   "metadata": {},
   "source": [
    "c) Listar los nombres de los productos correspondientes a órdenes cuyo tipo de pago es CONTADO."
   ]
  },
  {
   "cell_type": "code",
   "execution_count": null,
   "metadata": {},
   "outputs": [],
   "source": []
  },
  {
   "cell_type": "markdown",
   "metadata": {},
   "source": [
    "d) Listar los nombres de los diferentes productos que han sido ordenados."
   ]
  },
  {
   "cell_type": "code",
   "execution_count": null,
   "metadata": {},
   "outputs": [],
   "source": []
  },
  {
   "cell_type": "markdown",
   "metadata": {},
   "source": [
    "e) Detectar cuáles productos no han sido ordenados."
   ]
  },
  {
   "cell_type": "code",
   "execution_count": null,
   "metadata": {},
   "outputs": [],
   "source": []
  },
  {
   "cell_type": "markdown",
   "metadata": {},
   "source": [
    "f) Recuperar el nombre y el departamento de los empleados de mayor sueldo y de los de menor sueldo indicando en una columna la condición de mayor o de menor según corresponda."
   ]
  },
  {
   "cell_type": "code",
   "execution_count": null,
   "metadata": {},
   "outputs": [],
   "source": []
  },
  {
   "cell_type": "markdown",
   "metadata": {},
   "source": [
    "g) Obtener el departamento de los empleados que cobran, al menos, el doble que el sueldo promedio de los empleados."
   ]
  },
  {
   "cell_type": "code",
   "execution_count": null,
   "metadata": {},
   "outputs": [],
   "source": []
  },
  {
   "cell_type": "markdown",
   "metadata": {},
   "source": [
    "h) Listar el nombre, puesto, sexo y salario de todos los empleados que tienen un salario superior al salario más bajo. Ordenar la recuperación por salario en forma ascendente."
   ]
  },
  {
   "cell_type": "code",
   "execution_count": null,
   "metadata": {},
   "outputs": [],
   "source": []
  },
  {
   "cell_type": "markdown",
   "metadata": {},
   "source": [
    "i) Listar las personas que ganen más de 950 pesos que el miembro del personal de sueldo más alto de sexo masculino. Indicar si son hombres o mujeres y su salario."
   ]
  },
  {
   "cell_type": "code",
   "execution_count": null,
   "metadata": {},
   "outputs": [],
   "source": []
  },
  {
   "cell_type": "markdown",
   "metadata": {},
   "source": [
    "### 5. CREACION DE TABLAS Y MODIFICACIÓN DE DATOS"
   ]
  },
  {
   "cell_type": "markdown",
   "metadata": {},
   "source": []
  },
  {
   "cell_type": "code",
   "execution_count": null,
   "metadata": {},
   "outputs": [],
   "source": []
  }
 ],
 "metadata": {
  "kernelspec": {
   "display_name": "Python 3",
   "language": "python",
   "name": "python3"
  },
  "language_info": {
   "codemirror_mode": {
    "name": "ipython",
    "version": 3
   },
   "file_extension": ".py",
   "mimetype": "text/x-python",
   "name": "python",
   "nbconvert_exporter": "python",
   "pygments_lexer": "ipython3",
   "version": "3.6.4"
  }
 },
 "nbformat": 4,
 "nbformat_minor": 2
}
